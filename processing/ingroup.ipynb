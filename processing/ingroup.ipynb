{
 "cells": [
  {
   "cell_type": "code",
   "execution_count": 1,
   "metadata": {},
   "outputs": [],
   "source": [
    "import pandas as pd\n",
    "import numpy as np\n",
    "import warnings\n",
    "import matplotlib.pyplot as plt\n",
    "import soundfile as sf\n",
    "from scipy.fft import rfft,rfftfreq\n",
    "import librosa\n",
    "import librosa.display\n",
    "import IPython.display as ipd\n",
    "import os\n",
    "from sklearn.preprocessing import LabelEncoder\n",
    "from sklearn.svm import SVC\n",
    "from sklearn.model_selection import train_test_split\n",
    "from sklearn.metrics import classification_report\n",
    "import pickle\n",
    "from sklearn.tree import DecisionTreeClassifier\n",
    "from sklearn.preprocessing import StandardScaler\n",
    "from sklearn.mixture import GaussianMixture\n",
    "\n",
    "warnings.filterwarnings('ignore')"
   ]
  },
  {
   "cell_type": "code",
   "execution_count": 2,
   "metadata": {},
   "outputs": [],
   "source": [
    "def mfcc_feature_extractor(audio,sampleRate):\n",
    "    mfccsFeatures = librosa.feature.mfcc(y=audio, sr=sampleRate, n_mfcc=40)\n",
    "    mfccsScaledFeatures = np.mean(mfccsFeatures.T,axis=0)\n",
    "    \n",
    "    return mfccsScaledFeatures"
   ]
  },
  {
   "cell_type": "code",
   "execution_count": 3,
   "metadata": {},
   "outputs": [],
   "source": [
    "def contrast_feature_extractor(audio,sampleRate):\n",
    "    stft = np.abs(librosa.stft(audio))\n",
    "    contrast = librosa.feature.spectral_contrast(S=stft, sr=sampleRate) \n",
    "    contrastScaled = np.mean(contrast.T,axis=0)\n",
    "    \n",
    "    return contrastScaled"
   ]
  },
  {
   "cell_type": "code",
   "execution_count": 4,
   "metadata": {},
   "outputs": [],
   "source": [
    "def tonnetz_feature_extractor(audio,sampleRate):\n",
    "    tonnetz = librosa.feature.tonnetz(y=librosa.effects.harmonic(audio), sr=sampleRate)\n",
    "    tonnetzScaled = np.mean(tonnetz.T,axis=0)\n",
    "    \n",
    "    return tonnetzScaled"
   ]
  },
  {
   "cell_type": "code",
   "execution_count": 6,
   "metadata": {},
   "outputs": [],
   "source": [
    "def chroma_feature_extractor(audio,sampleRate):\n",
    "    stft = np.abs(librosa.stft(audio))\n",
    "    chroma = librosa.feature.chroma_stft(S=stft,sr=sampleRate)\n",
    "    chromaScaled = np.mean(chroma.T,axis=0)\n",
    "    \n",
    "    return chromaScaled"
   ]
  },
  {
   "cell_type": "code",
   "execution_count": 7,
   "metadata": {},
   "outputs": [],
   "source": [
    "def features_extractor(file):\n",
    "    features=[]\n",
    "    audio, sampleRate = librosa.load(file, res_type='kaiser_fast') \n",
    "    mfcc=mfcc_feature_extractor(audio,sampleRate)\n",
    "    contrast = contrast_feature_extractor(audio,sampleRate)\n",
    "    tonnetz = tonnetz_feature_extractor(audio,sampleRate)\n",
    "    chroma = chroma_feature_extractor(audio,sampleRate)\n",
    "\n",
    "    features.append([mfcc,contrast,tonnetz,chroma])\n",
    "    features[0] = np.concatenate((features[0][0],features[0][1],features[0][2],features[0][3]))\n",
    "    return features"
   ]
  },
  {
   "cell_type": "code",
   "execution_count": 8,
   "metadata": {},
   "outputs": [],
   "source": [
    "def add_features(extractedFeatures,dirPath,label):\n",
    "    for file in os.listdir(dirPath):\n",
    "        filePath = dirPath+'/'+file\n",
    "        finalClassLabels=label\n",
    "        audio, sampleRate = librosa.load(filePath, res_type='kaiser_fast') \n",
    "        mfcc=mfcc_feature_extractor(audio,sampleRate)\n",
    "        contrast = contrast_feature_extractor(audio,sampleRate)\n",
    "        tonnetz = tonnetz_feature_extractor(audio,sampleRate)\n",
    "        chroma = chroma_feature_extractor(audio,sampleRate)\n",
    "        extractedFeatures.append([mfcc,contrast,tonnetz,chroma,finalClassLabels])"
   ]
  },
  {
   "cell_type": "code",
   "execution_count": null,
   "metadata": {},
   "outputs": [],
   "source": [
    "dict = {\"in group\":\n",
    "            [\"C:/Users/DELL/General/DSP Tasks/DSP_Task3/backend/files/Anwar\",\n",
    "            \"C:/Users/DELL/General/DSP Tasks/DSP_Task3/backend/files/Aya\",\n",
    "            \"C:/Users/DELL/General/DSP Tasks/DSP_Task3/backend/files/Ehab\",\n",
    "            \"C:/Users/DELL/General/DSP Tasks/DSP_Task3/backend/files/Zeyad\",\n",
    "            \"C:/Users/DELL/General/DSP Tasks/DSP_Task3/processing/anwar\",\n",
    "            \"C:/Users/DELL/General/DSP Tasks/DSP_Task3/processing/aya\",\n",
    "            \"C:/Users/DELL/General/DSP Tasks/DSP_Task3/processing/ehab\",\n",
    "            \"C:/Users/DELL/General/DSP Tasks/DSP_Task3/processing/zeyad\",\n",
    "            \"C:/Users/DELL/General/DSP Tasks/DSP_Task3/processing/words/Anwar\",\n",
    "            \"C:/Users/DELL/General/DSP Tasks/DSP_Task3/processing/words/Aya\",\n",
    "            \"C:/Users/DELL/General/DSP Tasks/DSP_Task3/processing/words/Ehab\",\n",
    "            \"C:/Users/DELL/General/DSP Tasks/DSP_Task3/processing/words/Zeyad\"],\n",
    "                \"out of group\":\n",
    "                    [\"C:/Users/DELL/General/DSP Tasks/DSP_Task3/processing/others\"]}"
   ]
  },
  {
   "cell_type": "code",
   "execution_count": null,
   "metadata": {},
   "outputs": [],
   "source": [
    "extractedFeatures = []\n",
    "for i in dict.keys():\n",
    "    for x in dict[i]:\n",
    "        add_features(extractedFeatures,x,i)"
   ]
  },
  {
   "cell_type": "code",
   "execution_count": null,
   "metadata": {},
   "outputs": [],
   "source": [
    "data=pd.DataFrame(extractedFeatures,columns=['mfcc','contrast','tonnetz','chroma','class'])\n",
    "print(data.shape)\n",
    "data.head()"
   ]
  },
  {
   "cell_type": "code",
   "execution_count": null,
   "metadata": {},
   "outputs": [],
   "source": [
    "features=data.iloc[:,0:-1]\n",
    "target=data['class']\n",
    "features.head()"
   ]
  },
  {
   "cell_type": "code",
   "execution_count": null,
   "metadata": {},
   "outputs": [],
   "source": [
    "features = features.values.tolist()\n",
    "for i in range(len(features)):\n",
    "    features[i] = np.concatenate((features[i][0],features[i][1],features[i][2],features[i][3]))"
   ]
  },
  {
   "cell_type": "code",
   "execution_count": null,
   "metadata": {},
   "outputs": [],
   "source": [
    "encoder = LabelEncoder()\n",
    "target = encoder.fit_transform(target)"
   ]
  },
  {
   "cell_type": "code",
   "execution_count": null,
   "metadata": {},
   "outputs": [],
   "source": [
    "xTrain, xTest, yTrain, yTest = train_test_split(features, target, test_size=0.25, random_state=0)"
   ]
  },
  {
   "cell_type": "code",
   "execution_count": null,
   "metadata": {},
   "outputs": [],
   "source": [
    "classifier= SVC(kernel='linear',decision_function_shape=\"ovo\") \n",
    "classifier.fit(xTrain,yTrain)"
   ]
  },
  {
   "cell_type": "code",
   "execution_count": null,
   "metadata": {},
   "outputs": [],
   "source": [
    "preds = classifier.predict(xTest)"
   ]
  },
  {
   "cell_type": "code",
   "execution_count": null,
   "metadata": {},
   "outputs": [],
   "source": [
    "def prediction(pred):\n",
    "    if pred==0:\n",
    "        print(\"in group\")\n",
    "    elif pred==1:\n",
    "        print(\"out of group\")\n"
   ]
  },
  {
   "cell_type": "code",
   "execution_count": null,
   "metadata": {},
   "outputs": [],
   "source": [
    "print(classification_report(yTest,preds))"
   ]
  },
  {
   "cell_type": "code",
   "execution_count": null,
   "metadata": {},
   "outputs": [],
   "source": [
    "testFeatures = features_extractor(\"C:/Users/DELL/General/DSP Tasks/DSP_Task3/processing/words/Aya/voice01100741.wav\")\n",
    "pred = classifier.predict(testFeatures)\n",
    "prediction(pred)\n"
   ]
  },
  {
   "cell_type": "code",
   "execution_count": null,
   "metadata": {},
   "outputs": [],
   "source": [
    "pickle_out = open(\"ingroup_model.pkl\", \"wb\")\n",
    "pickle.dump(classifier, pickle_out)\n",
    "pickle_out.close()"
   ]
  }
 ],
 "metadata": {
  "kernelspec": {
   "display_name": "Python 3.9.12 ('base')",
   "language": "python",
   "name": "python3"
  },
  "language_info": {
   "codemirror_mode": {
    "name": "ipython",
    "version": 3
   },
   "file_extension": ".py",
   "mimetype": "text/x-python",
   "name": "python",
   "nbconvert_exporter": "python",
   "pygments_lexer": "ipython3",
   "version": "3.9.12 (main, Apr  4 2022, 05:22:27) [MSC v.1916 64 bit (AMD64)]"
  },
  "orig_nbformat": 4,
  "vscode": {
   "interpreter": {
    "hash": "5ae58900cfbb8c43ab3495913814b7cf26024f51651a94ce8bf64d6111688e8d"
   }
  }
 },
 "nbformat": 4,
 "nbformat_minor": 2
}
