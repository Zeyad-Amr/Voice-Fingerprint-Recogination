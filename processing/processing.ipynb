{
 "cells": [
  {
   "cell_type": "markdown",
   "metadata": {},
   "source": [
    "# Imports"
   ]
  },
  {
   "cell_type": "code",
   "execution_count": 197,
   "metadata": {},
   "outputs": [],
   "source": [
    "import pandas as pd\n",
    "import numpy as np\n",
    "import warnings\n",
    "import matplotlib.pyplot as plt\n",
    "import seaborn as sns\n",
    "import soundfile as sf\n",
    "from scipy.fft import rfft,rfftfreq\n",
    "import librosa\n",
    "import librosa.display\n",
    "import IPython.display as ipd\n",
    "import os\n",
    "from sklearn.preprocessing import LabelEncoder\n",
    "from sklearn.svm import SVC\n",
    "from sklearn.model_selection import train_test_split\n",
    "from sklearn.metrics import classification_report\n",
    "import pickle\n",
    "\n",
    "sns.set()\n",
    "warnings.filterwarnings('ignore')"
   ]
  },
  {
   "cell_type": "markdown",
   "metadata": {},
   "source": [
    "# Model"
   ]
  },
  {
   "cell_type": "markdown",
   "metadata": {},
   "source": [
    "### define features extraction function"
   ]
  },
  {
   "cell_type": "code",
   "execution_count": 198,
   "metadata": {},
   "outputs": [],
   "source": [
    "def features_extractor(file):\n",
    "    audio, sampleRate = librosa.load(file, res_type='kaiser_fast') \n",
    "    mfccsFeatures = librosa.feature.mfcc(y=audio, sr=sampleRate, n_mfcc=40)\n",
    "    mfccsScaledFeatures = np.mean(mfccsFeatures.T,axis=0)\n",
    "    \n",
    "    return mfccsScaledFeatures"
   ]
  },
  {
   "cell_type": "markdown",
   "metadata": {},
   "source": [
    "### define add features function"
   ]
  },
  {
   "cell_type": "code",
   "execution_count": 199,
   "metadata": {},
   "outputs": [],
   "source": [
    "def add_features(extractedFeatures,dirPath,label):\n",
    "    for file in os.listdir(dirPath):\n",
    "        filePath = dirPath+'/'+file\n",
    "        finalClassLabels=label\n",
    "        data=features_extractor(filePath)\n",
    "        extractedFeatures.append([data,finalClassLabels])"
   ]
  },
  {
   "cell_type": "markdown",
   "metadata": {},
   "source": [
    "### creating dictionary with dirPath and label"
   ]
  },
  {
   "cell_type": "code",
   "execution_count": 200,
   "metadata": {},
   "outputs": [],
   "source": [
    "dict = {\"anwar\":\"C:/Users/DELL/General/DSP Tasks/DSP_Task3/processing/anwar\",\"aya\":\"C:/Users/DELL/General/DSP Tasks/DSP_Task3/processing/aya\",\"ehab\":\"C:/Users/DELL/General/DSP Tasks/DSP_Task3/processing/ehab\",\"zeyad\":\"C:/Users/DELL/General/DSP Tasks/DSP_Task3/processing/zeyad\"}"
   ]
  },
  {
   "cell_type": "markdown",
   "metadata": {},
   "source": [
    "### creating data frame from our data"
   ]
  },
  {
   "cell_type": "code",
   "execution_count": 201,
   "metadata": {},
   "outputs": [],
   "source": [
    "extractedFeatures = []\n",
    "for i in dict.keys():\n",
    "    add_features(extractedFeatures,dict[i],i)"
   ]
  },
  {
   "cell_type": "code",
   "execution_count": 202,
   "metadata": {},
   "outputs": [
    {
     "data": {
      "text/html": [
       "<div>\n",
       "<style scoped>\n",
       "    .dataframe tbody tr th:only-of-type {\n",
       "        vertical-align: middle;\n",
       "    }\n",
       "\n",
       "    .dataframe tbody tr th {\n",
       "        vertical-align: top;\n",
       "    }\n",
       "\n",
       "    .dataframe thead th {\n",
       "        text-align: right;\n",
       "    }\n",
       "</style>\n",
       "<table border=\"1\" class=\"dataframe\">\n",
       "  <thead>\n",
       "    <tr style=\"text-align: right;\">\n",
       "      <th></th>\n",
       "      <th>feature</th>\n",
       "      <th>class</th>\n",
       "    </tr>\n",
       "  </thead>\n",
       "  <tbody>\n",
       "    <tr>\n",
       "      <th>0</th>\n",
       "      <td>[-358.41626, 144.1046, -4.3864827, 17.072119, ...</td>\n",
       "      <td>anwar</td>\n",
       "    </tr>\n",
       "    <tr>\n",
       "      <th>1</th>\n",
       "      <td>[-365.32745, 157.33589, 5.4608107, 15.8209915,...</td>\n",
       "      <td>anwar</td>\n",
       "    </tr>\n",
       "    <tr>\n",
       "      <th>2</th>\n",
       "      <td>[-317.8828, 143.54901, 3.7499225, 20.347023, 1...</td>\n",
       "      <td>anwar</td>\n",
       "    </tr>\n",
       "    <tr>\n",
       "      <th>3</th>\n",
       "      <td>[-318.0163, 147.84286, -4.8235664, 18.210249, ...</td>\n",
       "      <td>anwar</td>\n",
       "    </tr>\n",
       "    <tr>\n",
       "      <th>4</th>\n",
       "      <td>[-306.87152, 142.04994, -7.6469383, 14.261601,...</td>\n",
       "      <td>anwar</td>\n",
       "    </tr>\n",
       "    <tr>\n",
       "      <th>5</th>\n",
       "      <td>[-332.75174, 141.54172, 8.928279, 19.872, 8.70...</td>\n",
       "      <td>anwar</td>\n",
       "    </tr>\n",
       "    <tr>\n",
       "      <th>6</th>\n",
       "      <td>[-356.88754, 141.06744, -2.0423539, 25.714943,...</td>\n",
       "      <td>anwar</td>\n",
       "    </tr>\n",
       "    <tr>\n",
       "      <th>7</th>\n",
       "      <td>[-380.9829, 147.82411, -3.9097288, 25.803335, ...</td>\n",
       "      <td>anwar</td>\n",
       "    </tr>\n",
       "    <tr>\n",
       "      <th>8</th>\n",
       "      <td>[-346.01514, 143.40092, 3.005528, 10.000872, 2...</td>\n",
       "      <td>anwar</td>\n",
       "    </tr>\n",
       "    <tr>\n",
       "      <th>9</th>\n",
       "      <td>[-394.792, 149.5762, -2.5558197, 28.347002, 16...</td>\n",
       "      <td>anwar</td>\n",
       "    </tr>\n",
       "    <tr>\n",
       "      <th>10</th>\n",
       "      <td>[-373.77457, 147.8668, -2.0140476, 27.092764, ...</td>\n",
       "      <td>anwar</td>\n",
       "    </tr>\n",
       "    <tr>\n",
       "      <th>11</th>\n",
       "      <td>[-345.01544, 148.81018, -14.296517, 25.06804, ...</td>\n",
       "      <td>anwar</td>\n",
       "    </tr>\n",
       "    <tr>\n",
       "      <th>12</th>\n",
       "      <td>[-318.34427, 146.40977, -0.24088646, 9.043883,...</td>\n",
       "      <td>anwar</td>\n",
       "    </tr>\n",
       "    <tr>\n",
       "      <th>13</th>\n",
       "      <td>[-301.28918, 136.61156, -0.9669133, 10.171882,...</td>\n",
       "      <td>anwar</td>\n",
       "    </tr>\n",
       "    <tr>\n",
       "      <th>14</th>\n",
       "      <td>[-355.4254, 152.11789, -5.5121956, 23.673141, ...</td>\n",
       "      <td>anwar</td>\n",
       "    </tr>\n",
       "    <tr>\n",
       "      <th>15</th>\n",
       "      <td>[-370.6318, 154.87712, 5.3305583, 42.007465, 9...</td>\n",
       "      <td>aya</td>\n",
       "    </tr>\n",
       "    <tr>\n",
       "      <th>16</th>\n",
       "      <td>[-288.02347, 125.99928, -8.111607, 38.15969, -...</td>\n",
       "      <td>aya</td>\n",
       "    </tr>\n",
       "    <tr>\n",
       "      <th>17</th>\n",
       "      <td>[-351.71857, 144.95181, -6.64711, 38.24981, 6....</td>\n",
       "      <td>aya</td>\n",
       "    </tr>\n",
       "    <tr>\n",
       "      <th>18</th>\n",
       "      <td>[-336.19788, 130.05234, 1.6608552, 37.404877, ...</td>\n",
       "      <td>aya</td>\n",
       "    </tr>\n",
       "    <tr>\n",
       "      <th>19</th>\n",
       "      <td>[-364.31348, 146.35358, 0.006645848, 45.81331,...</td>\n",
       "      <td>aya</td>\n",
       "    </tr>\n",
       "    <tr>\n",
       "      <th>20</th>\n",
       "      <td>[-302.67664, 132.38507, -4.08081, 42.514267, 1...</td>\n",
       "      <td>aya</td>\n",
       "    </tr>\n",
       "    <tr>\n",
       "      <th>21</th>\n",
       "      <td>[-325.2733, 126.62674, -1.6433568, 52.547424, ...</td>\n",
       "      <td>aya</td>\n",
       "    </tr>\n",
       "    <tr>\n",
       "      <th>22</th>\n",
       "      <td>[-369.549, 155.42203, -2.8984447, 49.520668, 4...</td>\n",
       "      <td>aya</td>\n",
       "    </tr>\n",
       "    <tr>\n",
       "      <th>23</th>\n",
       "      <td>[-347.16483, 157.43697, -22.540607, 44.946117,...</td>\n",
       "      <td>aya</td>\n",
       "    </tr>\n",
       "    <tr>\n",
       "      <th>24</th>\n",
       "      <td>[-361.45352, 158.87361, -7.33677, 40.593143, 6...</td>\n",
       "      <td>aya</td>\n",
       "    </tr>\n",
       "    <tr>\n",
       "      <th>25</th>\n",
       "      <td>[-374.49435, 149.58263, 1.1392925, 45.8023, 6....</td>\n",
       "      <td>aya</td>\n",
       "    </tr>\n",
       "    <tr>\n",
       "      <th>26</th>\n",
       "      <td>[-375.77206, 139.34947, -2.7320857, 47.75955, ...</td>\n",
       "      <td>aya</td>\n",
       "    </tr>\n",
       "    <tr>\n",
       "      <th>27</th>\n",
       "      <td>[-389.56918, 159.86282, -8.924196, 47.719696, ...</td>\n",
       "      <td>aya</td>\n",
       "    </tr>\n",
       "    <tr>\n",
       "      <th>28</th>\n",
       "      <td>[-391.44394, 162.22618, -15.880617, 47.85003, ...</td>\n",
       "      <td>aya</td>\n",
       "    </tr>\n",
       "    <tr>\n",
       "      <th>29</th>\n",
       "      <td>[-388.81937, 157.0755, -7.7379475, 48.338017, ...</td>\n",
       "      <td>aya</td>\n",
       "    </tr>\n",
       "    <tr>\n",
       "      <th>30</th>\n",
       "      <td>[-343.8813, 133.958, -9.138615, 34.24447, -4.0...</td>\n",
       "      <td>ehab</td>\n",
       "    </tr>\n",
       "    <tr>\n",
       "      <th>31</th>\n",
       "      <td>[-396.73907, 130.1945, -4.229307, 37.279385, 3...</td>\n",
       "      <td>ehab</td>\n",
       "    </tr>\n",
       "    <tr>\n",
       "      <th>32</th>\n",
       "      <td>[-402.94012, 134.50916, -12.702273, 40.300232,...</td>\n",
       "      <td>ehab</td>\n",
       "    </tr>\n",
       "    <tr>\n",
       "      <th>33</th>\n",
       "      <td>[-385.10016, 142.76826, -10.587572, 39.16506, ...</td>\n",
       "      <td>ehab</td>\n",
       "    </tr>\n",
       "    <tr>\n",
       "      <th>34</th>\n",
       "      <td>[-372.09534, 146.47339, -11.691163, 33.27913, ...</td>\n",
       "      <td>ehab</td>\n",
       "    </tr>\n",
       "    <tr>\n",
       "      <th>35</th>\n",
       "      <td>[-389.85687, 147.79597, -12.480109, 34.405437,...</td>\n",
       "      <td>ehab</td>\n",
       "    </tr>\n",
       "    <tr>\n",
       "      <th>36</th>\n",
       "      <td>[-406.9383, 140.92006, -10.803528, 30.53031, 0...</td>\n",
       "      <td>ehab</td>\n",
       "    </tr>\n",
       "    <tr>\n",
       "      <th>37</th>\n",
       "      <td>[-346.79904, 142.74352, -3.465597, 45.986134, ...</td>\n",
       "      <td>ehab</td>\n",
       "    </tr>\n",
       "    <tr>\n",
       "      <th>38</th>\n",
       "      <td>[-359.8232, 137.79877, -6.094576, 41.370346, -...</td>\n",
       "      <td>ehab</td>\n",
       "    </tr>\n",
       "    <tr>\n",
       "      <th>39</th>\n",
       "      <td>[-366.4446, 133.70181, -8.642261, 36.461124, 1...</td>\n",
       "      <td>ehab</td>\n",
       "    </tr>\n",
       "    <tr>\n",
       "      <th>40</th>\n",
       "      <td>[-397.58926, 138.92497, -8.799716, 35.055347, ...</td>\n",
       "      <td>ehab</td>\n",
       "    </tr>\n",
       "    <tr>\n",
       "      <th>41</th>\n",
       "      <td>[-397.69913, 141.96764, -4.9918933, 37.23075, ...</td>\n",
       "      <td>ehab</td>\n",
       "    </tr>\n",
       "    <tr>\n",
       "      <th>42</th>\n",
       "      <td>[-394.25452, 132.60986, 1.129498, 32.106163, 1...</td>\n",
       "      <td>ehab</td>\n",
       "    </tr>\n",
       "    <tr>\n",
       "      <th>43</th>\n",
       "      <td>[-401.06076, 134.66496, -8.550478, 36.008232, ...</td>\n",
       "      <td>ehab</td>\n",
       "    </tr>\n",
       "    <tr>\n",
       "      <th>44</th>\n",
       "      <td>[-399.6009, 145.46112, -14.313093, 35.639923, ...</td>\n",
       "      <td>ehab</td>\n",
       "    </tr>\n",
       "    <tr>\n",
       "      <th>45</th>\n",
       "      <td>[-336.2972, 127.92914, 20.0905, 26.81776, 10.9...</td>\n",
       "      <td>zeyad</td>\n",
       "    </tr>\n",
       "    <tr>\n",
       "      <th>46</th>\n",
       "      <td>[-250.62836, 98.43273, 13.500847, 18.198364, -...</td>\n",
       "      <td>zeyad</td>\n",
       "    </tr>\n",
       "    <tr>\n",
       "      <th>47</th>\n",
       "      <td>[-413.05087, 138.83463, 8.595899, 40.76223, 11...</td>\n",
       "      <td>zeyad</td>\n",
       "    </tr>\n",
       "    <tr>\n",
       "      <th>48</th>\n",
       "      <td>[-418.0061, 147.22914, 5.096982, 43.16031, 7.0...</td>\n",
       "      <td>zeyad</td>\n",
       "    </tr>\n",
       "    <tr>\n",
       "      <th>49</th>\n",
       "      <td>[-396.806, 127.2739, 12.760178, 44.471565, 16....</td>\n",
       "      <td>zeyad</td>\n",
       "    </tr>\n",
       "    <tr>\n",
       "      <th>50</th>\n",
       "      <td>[-398.90445, 142.40033, -4.200806, 43.72199, 7...</td>\n",
       "      <td>zeyad</td>\n",
       "    </tr>\n",
       "    <tr>\n",
       "      <th>51</th>\n",
       "      <td>[-400.5932, 143.26105, 3.2192104, 40.226696, 7...</td>\n",
       "      <td>zeyad</td>\n",
       "    </tr>\n",
       "    <tr>\n",
       "      <th>52</th>\n",
       "      <td>[-346.65778, 129.68745, 21.237629, 26.083288, ...</td>\n",
       "      <td>zeyad</td>\n",
       "    </tr>\n",
       "    <tr>\n",
       "      <th>53</th>\n",
       "      <td>[-349.8025, 121.23637, 22.817892, 30.328058, 1...</td>\n",
       "      <td>zeyad</td>\n",
       "    </tr>\n",
       "    <tr>\n",
       "      <th>54</th>\n",
       "      <td>[-249.25394, 106.9728, 11.574206, 12.699211, -...</td>\n",
       "      <td>zeyad</td>\n",
       "    </tr>\n",
       "    <tr>\n",
       "      <th>55</th>\n",
       "      <td>[-366.4689, 126.19826, 22.741795, 32.968044, 9...</td>\n",
       "      <td>zeyad</td>\n",
       "    </tr>\n",
       "    <tr>\n",
       "      <th>56</th>\n",
       "      <td>[-383.83725, 132.09258, 17.9393, 41.372982, 14...</td>\n",
       "      <td>zeyad</td>\n",
       "    </tr>\n",
       "    <tr>\n",
       "      <th>57</th>\n",
       "      <td>[-367.65228, 135.83759, 13.067473, 26.563957, ...</td>\n",
       "      <td>zeyad</td>\n",
       "    </tr>\n",
       "    <tr>\n",
       "      <th>58</th>\n",
       "      <td>[-354.76398, 129.18146, 17.625792, 22.254814, ...</td>\n",
       "      <td>zeyad</td>\n",
       "    </tr>\n",
       "    <tr>\n",
       "      <th>59</th>\n",
       "      <td>[-344.41287, 135.54457, 11.693114, 28.8986, 13...</td>\n",
       "      <td>zeyad</td>\n",
       "    </tr>\n",
       "  </tbody>\n",
       "</table>\n",
       "</div>"
      ],
      "text/plain": [
       "                                              feature  class\n",
       "0   [-358.41626, 144.1046, -4.3864827, 17.072119, ...  anwar\n",
       "1   [-365.32745, 157.33589, 5.4608107, 15.8209915,...  anwar\n",
       "2   [-317.8828, 143.54901, 3.7499225, 20.347023, 1...  anwar\n",
       "3   [-318.0163, 147.84286, -4.8235664, 18.210249, ...  anwar\n",
       "4   [-306.87152, 142.04994, -7.6469383, 14.261601,...  anwar\n",
       "5   [-332.75174, 141.54172, 8.928279, 19.872, 8.70...  anwar\n",
       "6   [-356.88754, 141.06744, -2.0423539, 25.714943,...  anwar\n",
       "7   [-380.9829, 147.82411, -3.9097288, 25.803335, ...  anwar\n",
       "8   [-346.01514, 143.40092, 3.005528, 10.000872, 2...  anwar\n",
       "9   [-394.792, 149.5762, -2.5558197, 28.347002, 16...  anwar\n",
       "10  [-373.77457, 147.8668, -2.0140476, 27.092764, ...  anwar\n",
       "11  [-345.01544, 148.81018, -14.296517, 25.06804, ...  anwar\n",
       "12  [-318.34427, 146.40977, -0.24088646, 9.043883,...  anwar\n",
       "13  [-301.28918, 136.61156, -0.9669133, 10.171882,...  anwar\n",
       "14  [-355.4254, 152.11789, -5.5121956, 23.673141, ...  anwar\n",
       "15  [-370.6318, 154.87712, 5.3305583, 42.007465, 9...    aya\n",
       "16  [-288.02347, 125.99928, -8.111607, 38.15969, -...    aya\n",
       "17  [-351.71857, 144.95181, -6.64711, 38.24981, 6....    aya\n",
       "18  [-336.19788, 130.05234, 1.6608552, 37.404877, ...    aya\n",
       "19  [-364.31348, 146.35358, 0.006645848, 45.81331,...    aya\n",
       "20  [-302.67664, 132.38507, -4.08081, 42.514267, 1...    aya\n",
       "21  [-325.2733, 126.62674, -1.6433568, 52.547424, ...    aya\n",
       "22  [-369.549, 155.42203, -2.8984447, 49.520668, 4...    aya\n",
       "23  [-347.16483, 157.43697, -22.540607, 44.946117,...    aya\n",
       "24  [-361.45352, 158.87361, -7.33677, 40.593143, 6...    aya\n",
       "25  [-374.49435, 149.58263, 1.1392925, 45.8023, 6....    aya\n",
       "26  [-375.77206, 139.34947, -2.7320857, 47.75955, ...    aya\n",
       "27  [-389.56918, 159.86282, -8.924196, 47.719696, ...    aya\n",
       "28  [-391.44394, 162.22618, -15.880617, 47.85003, ...    aya\n",
       "29  [-388.81937, 157.0755, -7.7379475, 48.338017, ...    aya\n",
       "30  [-343.8813, 133.958, -9.138615, 34.24447, -4.0...   ehab\n",
       "31  [-396.73907, 130.1945, -4.229307, 37.279385, 3...   ehab\n",
       "32  [-402.94012, 134.50916, -12.702273, 40.300232,...   ehab\n",
       "33  [-385.10016, 142.76826, -10.587572, 39.16506, ...   ehab\n",
       "34  [-372.09534, 146.47339, -11.691163, 33.27913, ...   ehab\n",
       "35  [-389.85687, 147.79597, -12.480109, 34.405437,...   ehab\n",
       "36  [-406.9383, 140.92006, -10.803528, 30.53031, 0...   ehab\n",
       "37  [-346.79904, 142.74352, -3.465597, 45.986134, ...   ehab\n",
       "38  [-359.8232, 137.79877, -6.094576, 41.370346, -...   ehab\n",
       "39  [-366.4446, 133.70181, -8.642261, 36.461124, 1...   ehab\n",
       "40  [-397.58926, 138.92497, -8.799716, 35.055347, ...   ehab\n",
       "41  [-397.69913, 141.96764, -4.9918933, 37.23075, ...   ehab\n",
       "42  [-394.25452, 132.60986, 1.129498, 32.106163, 1...   ehab\n",
       "43  [-401.06076, 134.66496, -8.550478, 36.008232, ...   ehab\n",
       "44  [-399.6009, 145.46112, -14.313093, 35.639923, ...   ehab\n",
       "45  [-336.2972, 127.92914, 20.0905, 26.81776, 10.9...  zeyad\n",
       "46  [-250.62836, 98.43273, 13.500847, 18.198364, -...  zeyad\n",
       "47  [-413.05087, 138.83463, 8.595899, 40.76223, 11...  zeyad\n",
       "48  [-418.0061, 147.22914, 5.096982, 43.16031, 7.0...  zeyad\n",
       "49  [-396.806, 127.2739, 12.760178, 44.471565, 16....  zeyad\n",
       "50  [-398.90445, 142.40033, -4.200806, 43.72199, 7...  zeyad\n",
       "51  [-400.5932, 143.26105, 3.2192104, 40.226696, 7...  zeyad\n",
       "52  [-346.65778, 129.68745, 21.237629, 26.083288, ...  zeyad\n",
       "53  [-349.8025, 121.23637, 22.817892, 30.328058, 1...  zeyad\n",
       "54  [-249.25394, 106.9728, 11.574206, 12.699211, -...  zeyad\n",
       "55  [-366.4689, 126.19826, 22.741795, 32.968044, 9...  zeyad\n",
       "56  [-383.83725, 132.09258, 17.9393, 41.372982, 14...  zeyad\n",
       "57  [-367.65228, 135.83759, 13.067473, 26.563957, ...  zeyad\n",
       "58  [-354.76398, 129.18146, 17.625792, 22.254814, ...  zeyad\n",
       "59  [-344.41287, 135.54457, 11.693114, 28.8986, 13...  zeyad"
      ]
     },
     "execution_count": 202,
     "metadata": {},
     "output_type": "execute_result"
    }
   ],
   "source": [
    "data=pd.DataFrame(extractedFeatures,columns=['feature','class'])\n",
    "data"
   ]
  },
  {
   "cell_type": "markdown",
   "metadata": {},
   "source": [
    "### splitting the data into features and target"
   ]
  },
  {
   "cell_type": "code",
   "execution_count": 203,
   "metadata": {},
   "outputs": [],
   "source": [
    "features=np.array(data['feature'].tolist())\n",
    "target=np.array(data['class'].tolist())"
   ]
  },
  {
   "cell_type": "markdown",
   "metadata": {},
   "source": [
    "### encoding the target"
   ]
  },
  {
   "cell_type": "code",
   "execution_count": 204,
   "metadata": {},
   "outputs": [],
   "source": [
    "encoder = LabelEncoder()\n",
    "target = encoder.fit_transform(target)"
   ]
  },
  {
   "cell_type": "markdown",
   "metadata": {},
   "source": [
    "### splitting the data into train and test"
   ]
  },
  {
   "cell_type": "code",
   "execution_count": 205,
   "metadata": {},
   "outputs": [],
   "source": [
    "xTrain, xTest, yTrain, yTest = train_test_split(features, target, test_size=0.2, random_state=0)"
   ]
  },
  {
   "cell_type": "markdown",
   "metadata": {},
   "source": [
    "### creating SVM model"
   ]
  },
  {
   "cell_type": "code",
   "execution_count": 206,
   "metadata": {},
   "outputs": [
    {
     "data": {
      "text/html": [
       "<style>#sk-container-id-12 {color: black;background-color: white;}#sk-container-id-12 pre{padding: 0;}#sk-container-id-12 div.sk-toggleable {background-color: white;}#sk-container-id-12 label.sk-toggleable__label {cursor: pointer;display: block;width: 100%;margin-bottom: 0;padding: 0.3em;box-sizing: border-box;text-align: center;}#sk-container-id-12 label.sk-toggleable__label-arrow:before {content: \"▸\";float: left;margin-right: 0.25em;color: #696969;}#sk-container-id-12 label.sk-toggleable__label-arrow:hover:before {color: black;}#sk-container-id-12 div.sk-estimator:hover label.sk-toggleable__label-arrow:before {color: black;}#sk-container-id-12 div.sk-toggleable__content {max-height: 0;max-width: 0;overflow: hidden;text-align: left;background-color: #f0f8ff;}#sk-container-id-12 div.sk-toggleable__content pre {margin: 0.2em;color: black;border-radius: 0.25em;background-color: #f0f8ff;}#sk-container-id-12 input.sk-toggleable__control:checked~div.sk-toggleable__content {max-height: 200px;max-width: 100%;overflow: auto;}#sk-container-id-12 input.sk-toggleable__control:checked~label.sk-toggleable__label-arrow:before {content: \"▾\";}#sk-container-id-12 div.sk-estimator input.sk-toggleable__control:checked~label.sk-toggleable__label {background-color: #d4ebff;}#sk-container-id-12 div.sk-label input.sk-toggleable__control:checked~label.sk-toggleable__label {background-color: #d4ebff;}#sk-container-id-12 input.sk-hidden--visually {border: 0;clip: rect(1px 1px 1px 1px);clip: rect(1px, 1px, 1px, 1px);height: 1px;margin: -1px;overflow: hidden;padding: 0;position: absolute;width: 1px;}#sk-container-id-12 div.sk-estimator {font-family: monospace;background-color: #f0f8ff;border: 1px dotted black;border-radius: 0.25em;box-sizing: border-box;margin-bottom: 0.5em;}#sk-container-id-12 div.sk-estimator:hover {background-color: #d4ebff;}#sk-container-id-12 div.sk-parallel-item::after {content: \"\";width: 100%;border-bottom: 1px solid gray;flex-grow: 1;}#sk-container-id-12 div.sk-label:hover label.sk-toggleable__label {background-color: #d4ebff;}#sk-container-id-12 div.sk-serial::before {content: \"\";position: absolute;border-left: 1px solid gray;box-sizing: border-box;top: 0;bottom: 0;left: 50%;z-index: 0;}#sk-container-id-12 div.sk-serial {display: flex;flex-direction: column;align-items: center;background-color: white;padding-right: 0.2em;padding-left: 0.2em;position: relative;}#sk-container-id-12 div.sk-item {position: relative;z-index: 1;}#sk-container-id-12 div.sk-parallel {display: flex;align-items: stretch;justify-content: center;background-color: white;position: relative;}#sk-container-id-12 div.sk-item::before, #sk-container-id-12 div.sk-parallel-item::before {content: \"\";position: absolute;border-left: 1px solid gray;box-sizing: border-box;top: 0;bottom: 0;left: 50%;z-index: -1;}#sk-container-id-12 div.sk-parallel-item {display: flex;flex-direction: column;z-index: 1;position: relative;background-color: white;}#sk-container-id-12 div.sk-parallel-item:first-child::after {align-self: flex-end;width: 50%;}#sk-container-id-12 div.sk-parallel-item:last-child::after {align-self: flex-start;width: 50%;}#sk-container-id-12 div.sk-parallel-item:only-child::after {width: 0;}#sk-container-id-12 div.sk-dashed-wrapped {border: 1px dashed gray;margin: 0 0.4em 0.5em 0.4em;box-sizing: border-box;padding-bottom: 0.4em;background-color: white;}#sk-container-id-12 div.sk-label label {font-family: monospace;font-weight: bold;display: inline-block;line-height: 1.2em;}#sk-container-id-12 div.sk-label-container {text-align: center;}#sk-container-id-12 div.sk-container {/* jupyter's `normalize.less` sets `[hidden] { display: none; }` but bootstrap.min.css set `[hidden] { display: none !important; }` so we also need the `!important` here to be able to override the default hidden behavior on the sphinx rendered scikit-learn.org. See: https://github.com/scikit-learn/scikit-learn/issues/21755 */display: inline-block !important;position: relative;}#sk-container-id-12 div.sk-text-repr-fallback {display: none;}</style><div id=\"sk-container-id-12\" class=\"sk-top-container\"><div class=\"sk-text-repr-fallback\"><pre>SVC(decision_function_shape=&#x27;ovo&#x27;, kernel=&#x27;linear&#x27;)</pre><b>In a Jupyter environment, please rerun this cell to show the HTML representation or trust the notebook. <br />On GitHub, the HTML representation is unable to render, please try loading this page with nbviewer.org.</b></div><div class=\"sk-container\" hidden><div class=\"sk-item\"><div class=\"sk-estimator sk-toggleable\"><input class=\"sk-toggleable__control sk-hidden--visually\" id=\"sk-estimator-id-12\" type=\"checkbox\" checked><label for=\"sk-estimator-id-12\" class=\"sk-toggleable__label sk-toggleable__label-arrow\">SVC</label><div class=\"sk-toggleable__content\"><pre>SVC(decision_function_shape=&#x27;ovo&#x27;, kernel=&#x27;linear&#x27;)</pre></div></div></div></div></div>"
      ],
      "text/plain": [
       "SVC(decision_function_shape='ovo', kernel='linear')"
      ]
     },
     "execution_count": 206,
     "metadata": {},
     "output_type": "execute_result"
    }
   ],
   "source": [
    "linearModel = SVC(kernel='linear',decision_function_shape=\"ovo\")\n",
    "linearModel.fit(xTrain,yTrain)"
   ]
  },
  {
   "cell_type": "markdown",
   "metadata": {},
   "source": [
    "### predicting xTest"
   ]
  },
  {
   "cell_type": "code",
   "execution_count": 207,
   "metadata": {},
   "outputs": [],
   "source": [
    "linearPred = linearModel.predict(xTest)"
   ]
  },
  {
   "cell_type": "code",
   "execution_count": 208,
   "metadata": {},
   "outputs": [],
   "source": [
    "def prediction(pred):\n",
    "    if pred==0:\n",
    "        print(\"anwar\")\n",
    "    elif pred==1:\n",
    "        print(\"aya\")\n",
    "    elif pred==2:\n",
    "        print(\"ehab\")\n",
    "    elif pred==3:\n",
    "        print(\"zeyad\")"
   ]
  },
  {
   "cell_type": "markdown",
   "metadata": {},
   "source": [
    "### making classification report to see the result of the predicton "
   ]
  },
  {
   "cell_type": "code",
   "execution_count": 209,
   "metadata": {},
   "outputs": [
    {
     "name": "stdout",
     "output_type": "stream",
     "text": [
      "              precision    recall  f1-score   support\n",
      "\n",
      "           0       1.00      1.00      1.00         4\n",
      "           1       1.00      1.00      1.00         3\n",
      "           2       1.00      1.00      1.00         3\n",
      "           3       1.00      1.00      1.00         2\n",
      "\n",
      "    accuracy                           1.00        12\n",
      "   macro avg       1.00      1.00      1.00        12\n",
      "weighted avg       1.00      1.00      1.00        12\n",
      "\n"
     ]
    }
   ],
   "source": [
    "print(classification_report(yTest,linearPred))"
   ]
  },
  {
   "cell_type": "code",
   "execution_count": 210,
   "metadata": {},
   "outputs": [
    {
     "name": "stdout",
     "output_type": "stream",
     "text": [
      "zeyad\n"
     ]
    }
   ],
   "source": [
    "testFeatures = features_extractor(\"C:/Users/DELL/General/DSP Tasks/DSP_Task3/processing/zeyad/zeyad4.wav\")\n",
    "testFeatures = testFeatures.reshape(1,-1)\n",
    "linearPred = linearModel.predict(testFeatures)\n",
    "prediction(linearPred)"
   ]
  },
  {
   "cell_type": "markdown",
   "metadata": {},
   "source": [
    "### creating pickle"
   ]
  },
  {
   "cell_type": "code",
   "execution_count": 211,
   "metadata": {},
   "outputs": [],
   "source": [
    "pickle_out = open(\"SVM_Model.pkl\", \"wb\")\n",
    "pickle.dump(linearModel, pickle_out)\n",
    "pickle_out.close()"
   ]
  }
 ],
 "metadata": {
  "kernelspec": {
   "display_name": "Python 3.9.12 ('base')",
   "language": "python",
   "name": "python3"
  },
  "language_info": {
   "codemirror_mode": {
    "name": "ipython",
    "version": 3
   },
   "file_extension": ".py",
   "mimetype": "text/x-python",
   "name": "python",
   "nbconvert_exporter": "python",
   "pygments_lexer": "ipython3",
   "version": "3.9.12"
  },
  "orig_nbformat": 4,
  "vscode": {
   "interpreter": {
    "hash": "5ae58900cfbb8c43ab3495913814b7cf26024f51651a94ce8bf64d6111688e8d"
   }
  }
 },
 "nbformat": 4,
 "nbformat_minor": 2
}
