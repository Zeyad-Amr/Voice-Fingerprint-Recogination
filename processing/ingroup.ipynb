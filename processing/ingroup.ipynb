{
 "cells": [
  {
   "cell_type": "code",
   "execution_count": 3,
   "metadata": {},
   "outputs": [],
   "source": [
    "import pandas as pd\n",
    "import numpy as np\n",
    "import warnings\n",
    "import matplotlib.pyplot as plt\n",
    "# import soundfile as sf\n",
    "from scipy.fft import rfft,rfftfreq\n",
    "import librosa\n",
    "import librosa.display\n",
    "import IPython.display as ipd\n",
    "import os\n",
    "from sklearn.preprocessing import LabelEncoder\n",
    "from sklearn.svm import SVC\n",
    "from sklearn.model_selection import train_test_split\n",
    "from sklearn.metrics import classification_report\n",
    "import pickle\n",
    "from sklearn.tree import DecisionTreeClassifier\n",
    "from sklearn.preprocessing import StandardScaler\n",
    "from sklearn.mixture import GaussianMixture\n",
    "from sklearn.ensemble import RandomForestClassifier\n",
    "\n",
    "warnings.filterwarnings('ignore')"
   ]
  },
  {
   "cell_type": "code",
   "execution_count": 4,
   "metadata": {},
   "outputs": [],
   "source": [
    "def mfcc_feature_extractor(audio,sampleRate):\n",
    "    mfccsFeatures = librosa.feature.mfcc(y=audio, sr=sampleRate, n_mfcc=40)\n",
    "    mfccsScaledFeatures = np.mean(mfccsFeatures.T,axis=0)\n",
    "    \n",
    "    return mfccsScaledFeatures"
   ]
  },
  {
   "cell_type": "code",
   "execution_count": 5,
   "metadata": {},
   "outputs": [],
   "source": [
    "def contrast_feature_extractor(audio,sampleRate):\n",
    "    stft = np.abs(librosa.stft(audio))\n",
    "    contrast = librosa.feature.spectral_contrast(S=stft, sr=sampleRate) \n",
    "    contrastScaled = np.mean(contrast.T,axis=0)\n",
    "    \n",
    "    return contrastScaled"
   ]
  },
  {
   "cell_type": "code",
   "execution_count": 6,
   "metadata": {},
   "outputs": [],
   "source": [
    "def tonnetz_feature_extractor(audio,sampleRate):\n",
    "    tonnetz = librosa.feature.tonnetz(y=librosa.effects.harmonic(audio), sr=sampleRate)\n",
    "    tonnetzScaled = np.mean(tonnetz.T,axis=0)\n",
    "    \n",
    "    return tonnetzScaled"
   ]
  },
  {
   "cell_type": "code",
   "execution_count": 7,
   "metadata": {},
   "outputs": [],
   "source": [
    "def chroma_feature_extractor(audio,sampleRate):\n",
    "    stft = np.abs(librosa.stft(audio))\n",
    "    chroma = librosa.feature.chroma_stft(S=stft,sr=sampleRate)\n",
    "    chromaScaled = np.mean(chroma.T,axis=0)\n",
    "    \n",
    "    return chromaScaled"
   ]
  },
  {
   "cell_type": "code",
   "execution_count": 8,
   "metadata": {},
   "outputs": [],
   "source": [
    "def features_extractor(file):\n",
    "    features=[]\n",
    "    audio, sampleRate = librosa.load(file, res_type='kaiser_fast') \n",
    "    mfcc=mfcc_feature_extractor(audio,sampleRate)\n",
    "    contrast = contrast_feature_extractor(audio,sampleRate)\n",
    "    tonnetz = tonnetz_feature_extractor(audio,sampleRate)\n",
    "    chroma = chroma_feature_extractor(audio,sampleRate)\n",
    "\n",
    "    features.append([mfcc,contrast,tonnetz,chroma])\n",
    "    features[0] = np.concatenate((features[0][0],features[0][1],features[0][2],features[0][3]))\n",
    "    return features"
   ]
  },
  {
   "cell_type": "code",
   "execution_count": 9,
   "metadata": {},
   "outputs": [],
   "source": [
    "def add_features(extractedFeatures,dirPath,label):\n",
    "    for file in os.listdir(dirPath):\n",
    "        filePath = dirPath+'/'+file\n",
    "        finalClassLabels=label\n",
    "        audio, sampleRate = librosa.load(filePath, res_type='kaiser_fast') \n",
    "        mfcc=mfcc_feature_extractor(audio,sampleRate)\n",
    "        contrast = contrast_feature_extractor(audio,sampleRate)\n",
    "        tonnetz = tonnetz_feature_extractor(audio,sampleRate)\n",
    "        chroma = chroma_feature_extractor(audio,sampleRate)\n",
    "        extractedFeatures.append([mfcc,contrast,tonnetz,chroma,finalClassLabels])"
   ]
  },
  {
   "cell_type": "code",
   "execution_count": 10,
   "metadata": {},
   "outputs": [],
   "source": [
    "dict = {\"in group\":\n",
    "        [\"C:/Users/EXTRA/DSP_Task3/backend/files/Anwar\",\n",
    "         \"C:/Users/EXTRA/DSP_Task3/backend/files/Aya\",\n",
    "         \"C:/Users/EXTRA/DSP_Task3/backend/files/Ehab\",\n",
    "         \"C:/Users/EXTRA/DSP_Task3/backend/files/Zeyad\",\n",
    "         \"C:/Users/EXTRA/DSP_Task3/processing/anwar\",\n",
    "         \"C:/Users/EXTRA/DSP_Task3/processing/aya\",\n",
    "         \"C:/Users/EXTRA/DSP_Task3/processing/ehab\",\n",
    "         \"C:/Users/EXTRA/DSP_Task3/processing/zeyad\",\n",
    "         \"C:/Users/EXTRA/DSP_Task3/processing/words/Anwar\",\n",
    "         \"C:/Users/EXTRA/DSP_Task3/processing/words/Aya\",\n",
    "         \"C:/Users/EXTRA/DSP_Task3/processing/words/Ehab\",\n",
    "         \"C:/Users/EXTRA/DSP_Task3/processing/words/Zeyad\"],\n",
    "                \"out of group\":\n",
    "                    [\"C:/Users/EXTRA/DSP_Task3/backend/outGroup\"]}\n",
    "\n",
    "    \n"
   ]
  },
  {
   "cell_type": "code",
   "execution_count": 11,
   "metadata": {},
   "outputs": [],
   "source": [
    "extractedFeatures = []\n",
    "for i in dict.keys():\n",
    "    for x in dict[i]:\n",
    "        add_features(extractedFeatures,x,i)"
   ]
  },
  {
   "cell_type": "code",
   "execution_count": 12,
   "metadata": {},
   "outputs": [
    {
     "name": "stdout",
     "output_type": "stream",
     "text": [
      "(2247, 5)\n"
     ]
    },
    {
     "data": {
      "text/html": [
       "<div>\n",
       "<style scoped>\n",
       "    .dataframe tbody tr th:only-of-type {\n",
       "        vertical-align: middle;\n",
       "    }\n",
       "\n",
       "    .dataframe tbody tr th {\n",
       "        vertical-align: top;\n",
       "    }\n",
       "\n",
       "    .dataframe thead th {\n",
       "        text-align: right;\n",
       "    }\n",
       "</style>\n",
       "<table border=\"1\" class=\"dataframe\">\n",
       "  <thead>\n",
       "    <tr style=\"text-align: right;\">\n",
       "      <th></th>\n",
       "      <th>mfcc</th>\n",
       "      <th>contrast</th>\n",
       "      <th>tonnetz</th>\n",
       "      <th>chroma</th>\n",
       "      <th>class</th>\n",
       "    </tr>\n",
       "  </thead>\n",
       "  <tbody>\n",
       "    <tr>\n",
       "      <th>0</th>\n",
       "      <td>[-506.52463, 61.64891, 8.294457, 6.1529727, 16...</td>\n",
       "      <td>[18.225099789410645, 14.073347582034515, 14.92...</td>\n",
       "      <td>[-0.026156166403453775, -0.007522828056776607,...</td>\n",
       "      <td>[0.7895138, 0.7891665, 0.7331944, 0.69265306, ...</td>\n",
       "      <td>in group</td>\n",
       "    </tr>\n",
       "    <tr>\n",
       "      <th>1</th>\n",
       "      <td>[-484.83054, 57.63201, 19.381887, 17.619091, 1...</td>\n",
       "      <td>[20.11971653181864, 14.4055109778802, 15.14931...</td>\n",
       "      <td>[0.020898464482939905, 0.02311273234743904, 0....</td>\n",
       "      <td>[0.7711498, 0.77708644, 0.7428681, 0.6990656, ...</td>\n",
       "      <td>in group</td>\n",
       "    </tr>\n",
       "    <tr>\n",
       "      <th>2</th>\n",
       "      <td>[-375.71805, 95.867195, -0.665796, 31.796244, ...</td>\n",
       "      <td>[18.940401074917414, 15.716624572258736, 17.18...</td>\n",
       "      <td>[0.0030600953263598307, 0.004340534464086048, ...</td>\n",
       "      <td>[0.62990934, 0.66626626, 0.70043945, 0.7260682...</td>\n",
       "      <td>in group</td>\n",
       "    </tr>\n",
       "    <tr>\n",
       "      <th>3</th>\n",
       "      <td>[-351.94073, 53.247982, 12.9672785, 10.35929, ...</td>\n",
       "      <td>[18.990867307267536, 14.260342060954631, 16.18...</td>\n",
       "      <td>[-0.013442975463150214, -0.03099029914648438, ...</td>\n",
       "      <td>[0.7548545, 0.85651636, 0.81929094, 0.6672034,...</td>\n",
       "      <td>in group</td>\n",
       "    </tr>\n",
       "    <tr>\n",
       "      <th>4</th>\n",
       "      <td>[-442.27194, 81.52423, 17.646692, 13.475121, 1...</td>\n",
       "      <td>[20.260033821862628, 13.37880827112114, 15.661...</td>\n",
       "      <td>[-0.021241162685261376, -0.021280018761884012,...</td>\n",
       "      <td>[0.665574, 0.78218377, 0.7599841, 0.68303883, ...</td>\n",
       "      <td>in group</td>\n",
       "    </tr>\n",
       "  </tbody>\n",
       "</table>\n",
       "</div>"
      ],
      "text/plain": [
       "                                                mfcc  \\\n",
       "0  [-506.52463, 61.64891, 8.294457, 6.1529727, 16...   \n",
       "1  [-484.83054, 57.63201, 19.381887, 17.619091, 1...   \n",
       "2  [-375.71805, 95.867195, -0.665796, 31.796244, ...   \n",
       "3  [-351.94073, 53.247982, 12.9672785, 10.35929, ...   \n",
       "4  [-442.27194, 81.52423, 17.646692, 13.475121, 1...   \n",
       "\n",
       "                                            contrast  \\\n",
       "0  [18.225099789410645, 14.073347582034515, 14.92...   \n",
       "1  [20.11971653181864, 14.4055109778802, 15.14931...   \n",
       "2  [18.940401074917414, 15.716624572258736, 17.18...   \n",
       "3  [18.990867307267536, 14.260342060954631, 16.18...   \n",
       "4  [20.260033821862628, 13.37880827112114, 15.661...   \n",
       "\n",
       "                                             tonnetz  \\\n",
       "0  [-0.026156166403453775, -0.007522828056776607,...   \n",
       "1  [0.020898464482939905, 0.02311273234743904, 0....   \n",
       "2  [0.0030600953263598307, 0.004340534464086048, ...   \n",
       "3  [-0.013442975463150214, -0.03099029914648438, ...   \n",
       "4  [-0.021241162685261376, -0.021280018761884012,...   \n",
       "\n",
       "                                              chroma     class  \n",
       "0  [0.7895138, 0.7891665, 0.7331944, 0.69265306, ...  in group  \n",
       "1  [0.7711498, 0.77708644, 0.7428681, 0.6990656, ...  in group  \n",
       "2  [0.62990934, 0.66626626, 0.70043945, 0.7260682...  in group  \n",
       "3  [0.7548545, 0.85651636, 0.81929094, 0.6672034,...  in group  \n",
       "4  [0.665574, 0.78218377, 0.7599841, 0.68303883, ...  in group  "
      ]
     },
     "execution_count": 12,
     "metadata": {},
     "output_type": "execute_result"
    }
   ],
   "source": [
    "data=pd.DataFrame(extractedFeatures,columns=['mfcc','contrast','tonnetz','chroma','class'])\n",
    "print(data.shape)\n",
    "data.head()"
   ]
  },
  {
   "cell_type": "code",
   "execution_count": 13,
   "metadata": {},
   "outputs": [
    {
     "data": {
      "text/html": [
       "<div>\n",
       "<style scoped>\n",
       "    .dataframe tbody tr th:only-of-type {\n",
       "        vertical-align: middle;\n",
       "    }\n",
       "\n",
       "    .dataframe tbody tr th {\n",
       "        vertical-align: top;\n",
       "    }\n",
       "\n",
       "    .dataframe thead th {\n",
       "        text-align: right;\n",
       "    }\n",
       "</style>\n",
       "<table border=\"1\" class=\"dataframe\">\n",
       "  <thead>\n",
       "    <tr style=\"text-align: right;\">\n",
       "      <th></th>\n",
       "      <th>mfcc</th>\n",
       "      <th>contrast</th>\n",
       "      <th>tonnetz</th>\n",
       "      <th>chroma</th>\n",
       "    </tr>\n",
       "  </thead>\n",
       "  <tbody>\n",
       "    <tr>\n",
       "      <th>0</th>\n",
       "      <td>[-506.52463, 61.64891, 8.294457, 6.1529727, 16...</td>\n",
       "      <td>[18.225099789410645, 14.073347582034515, 14.92...</td>\n",
       "      <td>[-0.026156166403453775, -0.007522828056776607,...</td>\n",
       "      <td>[0.7895138, 0.7891665, 0.7331944, 0.69265306, ...</td>\n",
       "    </tr>\n",
       "    <tr>\n",
       "      <th>1</th>\n",
       "      <td>[-484.83054, 57.63201, 19.381887, 17.619091, 1...</td>\n",
       "      <td>[20.11971653181864, 14.4055109778802, 15.14931...</td>\n",
       "      <td>[0.020898464482939905, 0.02311273234743904, 0....</td>\n",
       "      <td>[0.7711498, 0.77708644, 0.7428681, 0.6990656, ...</td>\n",
       "    </tr>\n",
       "    <tr>\n",
       "      <th>2</th>\n",
       "      <td>[-375.71805, 95.867195, -0.665796, 31.796244, ...</td>\n",
       "      <td>[18.940401074917414, 15.716624572258736, 17.18...</td>\n",
       "      <td>[0.0030600953263598307, 0.004340534464086048, ...</td>\n",
       "      <td>[0.62990934, 0.66626626, 0.70043945, 0.7260682...</td>\n",
       "    </tr>\n",
       "    <tr>\n",
       "      <th>3</th>\n",
       "      <td>[-351.94073, 53.247982, 12.9672785, 10.35929, ...</td>\n",
       "      <td>[18.990867307267536, 14.260342060954631, 16.18...</td>\n",
       "      <td>[-0.013442975463150214, -0.03099029914648438, ...</td>\n",
       "      <td>[0.7548545, 0.85651636, 0.81929094, 0.6672034,...</td>\n",
       "    </tr>\n",
       "    <tr>\n",
       "      <th>4</th>\n",
       "      <td>[-442.27194, 81.52423, 17.646692, 13.475121, 1...</td>\n",
       "      <td>[20.260033821862628, 13.37880827112114, 15.661...</td>\n",
       "      <td>[-0.021241162685261376, -0.021280018761884012,...</td>\n",
       "      <td>[0.665574, 0.78218377, 0.7599841, 0.68303883, ...</td>\n",
       "    </tr>\n",
       "  </tbody>\n",
       "</table>\n",
       "</div>"
      ],
      "text/plain": [
       "                                                mfcc  \\\n",
       "0  [-506.52463, 61.64891, 8.294457, 6.1529727, 16...   \n",
       "1  [-484.83054, 57.63201, 19.381887, 17.619091, 1...   \n",
       "2  [-375.71805, 95.867195, -0.665796, 31.796244, ...   \n",
       "3  [-351.94073, 53.247982, 12.9672785, 10.35929, ...   \n",
       "4  [-442.27194, 81.52423, 17.646692, 13.475121, 1...   \n",
       "\n",
       "                                            contrast  \\\n",
       "0  [18.225099789410645, 14.073347582034515, 14.92...   \n",
       "1  [20.11971653181864, 14.4055109778802, 15.14931...   \n",
       "2  [18.940401074917414, 15.716624572258736, 17.18...   \n",
       "3  [18.990867307267536, 14.260342060954631, 16.18...   \n",
       "4  [20.260033821862628, 13.37880827112114, 15.661...   \n",
       "\n",
       "                                             tonnetz  \\\n",
       "0  [-0.026156166403453775, -0.007522828056776607,...   \n",
       "1  [0.020898464482939905, 0.02311273234743904, 0....   \n",
       "2  [0.0030600953263598307, 0.004340534464086048, ...   \n",
       "3  [-0.013442975463150214, -0.03099029914648438, ...   \n",
       "4  [-0.021241162685261376, -0.021280018761884012,...   \n",
       "\n",
       "                                              chroma  \n",
       "0  [0.7895138, 0.7891665, 0.7331944, 0.69265306, ...  \n",
       "1  [0.7711498, 0.77708644, 0.7428681, 0.6990656, ...  \n",
       "2  [0.62990934, 0.66626626, 0.70043945, 0.7260682...  \n",
       "3  [0.7548545, 0.85651636, 0.81929094, 0.6672034,...  \n",
       "4  [0.665574, 0.78218377, 0.7599841, 0.68303883, ...  "
      ]
     },
     "execution_count": 13,
     "metadata": {},
     "output_type": "execute_result"
    }
   ],
   "source": [
    "features=data.iloc[:,0:-1]\n",
    "target=data['class']\n",
    "features.head()"
   ]
  },
  {
   "cell_type": "code",
   "execution_count": 14,
   "metadata": {},
   "outputs": [],
   "source": [
    "features = features.values.tolist()\n",
    "for i in range(len(features)):\n",
    "    features[i] = np.concatenate((features[i][0],features[i][1],features[i][2],features[i][3]))"
   ]
  },
  {
   "cell_type": "code",
   "execution_count": 15,
   "metadata": {},
   "outputs": [],
   "source": [
    "encoder = LabelEncoder()\n",
    "target = encoder.fit_transform(target)"
   ]
  },
  {
   "cell_type": "code",
   "execution_count": 16,
   "metadata": {},
   "outputs": [],
   "source": [
    "xTrain, xTest, yTrain, yTest = train_test_split(features, target, test_size=0.25, random_state=0)"
   ]
  },
  {
   "cell_type": "code",
   "execution_count": 17,
   "metadata": {},
   "outputs": [
    {
     "data": {
      "text/html": [
       "<style>#sk-container-id-1 {color: black;background-color: white;}#sk-container-id-1 pre{padding: 0;}#sk-container-id-1 div.sk-toggleable {background-color: white;}#sk-container-id-1 label.sk-toggleable__label {cursor: pointer;display: block;width: 100%;margin-bottom: 0;padding: 0.3em;box-sizing: border-box;text-align: center;}#sk-container-id-1 label.sk-toggleable__label-arrow:before {content: \"▸\";float: left;margin-right: 0.25em;color: #696969;}#sk-container-id-1 label.sk-toggleable__label-arrow:hover:before {color: black;}#sk-container-id-1 div.sk-estimator:hover label.sk-toggleable__label-arrow:before {color: black;}#sk-container-id-1 div.sk-toggleable__content {max-height: 0;max-width: 0;overflow: hidden;text-align: left;background-color: #f0f8ff;}#sk-container-id-1 div.sk-toggleable__content pre {margin: 0.2em;color: black;border-radius: 0.25em;background-color: #f0f8ff;}#sk-container-id-1 input.sk-toggleable__control:checked~div.sk-toggleable__content {max-height: 200px;max-width: 100%;overflow: auto;}#sk-container-id-1 input.sk-toggleable__control:checked~label.sk-toggleable__label-arrow:before {content: \"▾\";}#sk-container-id-1 div.sk-estimator input.sk-toggleable__control:checked~label.sk-toggleable__label {background-color: #d4ebff;}#sk-container-id-1 div.sk-label input.sk-toggleable__control:checked~label.sk-toggleable__label {background-color: #d4ebff;}#sk-container-id-1 input.sk-hidden--visually {border: 0;clip: rect(1px 1px 1px 1px);clip: rect(1px, 1px, 1px, 1px);height: 1px;margin: -1px;overflow: hidden;padding: 0;position: absolute;width: 1px;}#sk-container-id-1 div.sk-estimator {font-family: monospace;background-color: #f0f8ff;border: 1px dotted black;border-radius: 0.25em;box-sizing: border-box;margin-bottom: 0.5em;}#sk-container-id-1 div.sk-estimator:hover {background-color: #d4ebff;}#sk-container-id-1 div.sk-parallel-item::after {content: \"\";width: 100%;border-bottom: 1px solid gray;flex-grow: 1;}#sk-container-id-1 div.sk-label:hover label.sk-toggleable__label {background-color: #d4ebff;}#sk-container-id-1 div.sk-serial::before {content: \"\";position: absolute;border-left: 1px solid gray;box-sizing: border-box;top: 0;bottom: 0;left: 50%;z-index: 0;}#sk-container-id-1 div.sk-serial {display: flex;flex-direction: column;align-items: center;background-color: white;padding-right: 0.2em;padding-left: 0.2em;position: relative;}#sk-container-id-1 div.sk-item {position: relative;z-index: 1;}#sk-container-id-1 div.sk-parallel {display: flex;align-items: stretch;justify-content: center;background-color: white;position: relative;}#sk-container-id-1 div.sk-item::before, #sk-container-id-1 div.sk-parallel-item::before {content: \"\";position: absolute;border-left: 1px solid gray;box-sizing: border-box;top: 0;bottom: 0;left: 50%;z-index: -1;}#sk-container-id-1 div.sk-parallel-item {display: flex;flex-direction: column;z-index: 1;position: relative;background-color: white;}#sk-container-id-1 div.sk-parallel-item:first-child::after {align-self: flex-end;width: 50%;}#sk-container-id-1 div.sk-parallel-item:last-child::after {align-self: flex-start;width: 50%;}#sk-container-id-1 div.sk-parallel-item:only-child::after {width: 0;}#sk-container-id-1 div.sk-dashed-wrapped {border: 1px dashed gray;margin: 0 0.4em 0.5em 0.4em;box-sizing: border-box;padding-bottom: 0.4em;background-color: white;}#sk-container-id-1 div.sk-label label {font-family: monospace;font-weight: bold;display: inline-block;line-height: 1.2em;}#sk-container-id-1 div.sk-label-container {text-align: center;}#sk-container-id-1 div.sk-container {/* jupyter's `normalize.less` sets `[hidden] { display: none; }` but bootstrap.min.css set `[hidden] { display: none !important; }` so we also need the `!important` here to be able to override the default hidden behavior on the sphinx rendered scikit-learn.org. See: https://github.com/scikit-learn/scikit-learn/issues/21755 */display: inline-block !important;position: relative;}#sk-container-id-1 div.sk-text-repr-fallback {display: none;}</style><div id=\"sk-container-id-1\" class=\"sk-top-container\"><div class=\"sk-text-repr-fallback\"><pre>SVC(decision_function_shape=&#x27;ovo&#x27;, kernel=&#x27;linear&#x27;)</pre><b>In a Jupyter environment, please rerun this cell to show the HTML representation or trust the notebook. <br />On GitHub, the HTML representation is unable to render, please try loading this page with nbviewer.org.</b></div><div class=\"sk-container\" hidden><div class=\"sk-item\"><div class=\"sk-estimator sk-toggleable\"><input class=\"sk-toggleable__control sk-hidden--visually\" id=\"sk-estimator-id-1\" type=\"checkbox\" checked><label for=\"sk-estimator-id-1\" class=\"sk-toggleable__label sk-toggleable__label-arrow\">SVC</label><div class=\"sk-toggleable__content\"><pre>SVC(decision_function_shape=&#x27;ovo&#x27;, kernel=&#x27;linear&#x27;)</pre></div></div></div></div></div>"
      ],
      "text/plain": [
       "SVC(decision_function_shape='ovo', kernel='linear')"
      ]
     },
     "execution_count": 17,
     "metadata": {},
     "output_type": "execute_result"
    }
   ],
   "source": [
    "classifier= SVC(kernel='linear', decision_function_shape=\"ovo\")\n",
    "classifier.fit(xTrain,yTrain)"
   ]
  },
  {
   "cell_type": "code",
   "execution_count": 18,
   "metadata": {},
   "outputs": [],
   "source": [
    "preds = classifier.predict(xTest)"
   ]
  },
  {
   "cell_type": "code",
   "execution_count": 19,
   "metadata": {},
   "outputs": [],
   "source": [
    "def prediction(pred):\n",
    "    if pred==0:\n",
    "        print(\"in group\")\n",
    "    elif pred==1:\n",
    "        print(\"out of group\")\n"
   ]
  },
  {
   "cell_type": "code",
   "execution_count": 20,
   "metadata": {},
   "outputs": [
    {
     "name": "stdout",
     "output_type": "stream",
     "text": [
      "              precision    recall  f1-score   support\n",
      "\n",
      "           0       0.94      0.93      0.94       290\n",
      "           1       0.93      0.94      0.93       272\n",
      "\n",
      "    accuracy                           0.94       562\n",
      "   macro avg       0.94      0.94      0.94       562\n",
      "weighted avg       0.94      0.94      0.94       562\n",
      "\n"
     ]
    }
   ],
   "source": [
    "print(classification_report(yTest,preds))"
   ]
  },
  {
   "cell_type": "code",
   "execution_count": 21,
   "metadata": {},
   "outputs": [
    {
     "name": "stdout",
     "output_type": "stream",
     "text": [
      "in group\n"
     ]
    }
   ],
   "source": [
    "testFeatures = features_extractor(\"C:/Users/EXTRA/DSP_Task3/processing/words/Aya/voice01100741.wav\")\n",
    "pred = classifier.predict(testFeatures)\n",
    "prediction(pred)\n"
   ]
  },
  {
   "cell_type": "code",
   "execution_count": 22,
   "metadata": {},
   "outputs": [],
   "source": [
    "pickle_out = open(\"ingroup_model.pkl\", \"wb\")\n",
    "pickle.dump(classifier, pickle_out)\n",
    "pickle_out.close()"
   ]
  },
  {
   "cell_type": "code",
   "execution_count": 23,
   "metadata": {},
   "outputs": [],
   "source": [
    "from mlxtend.feature_selection import SequentialFeatureSelector as SFS\n",
    "# from sklearn.linear_model import LinearRegression\n",
    "# Sequential Forward Selection(sfs)\n",
    "sfs = SFS(SVC(kernel='linear', decision_function_shape=\"ovo\"),\n",
    "          k_features=3,\n",
    "          forward=True,\n",
    "          floating=False,\n",
    "          scoring = 'r2',\n",
    "          cv = 0)"
   ]
  },
  {
   "cell_type": "code",
   "execution_count": 24,
   "metadata": {},
   "outputs": [],
   "source": [
    "features1 = pd.DataFrame(features)"
   ]
  },
  {
   "cell_type": "code",
   "execution_count": 25,
   "metadata": {},
   "outputs": [
    {
     "data": {
      "text/plain": [
       "(4, 11, 45)"
      ]
     },
     "execution_count": 25,
     "metadata": {},
     "output_type": "execute_result"
    }
   ],
   "source": [
    "sfs.fit(features1, target)\n",
    "sfs.k_feature_names_"
   ]
  },
  {
   "cell_type": "code",
   "execution_count": 26,
   "metadata": {},
   "outputs": [],
   "source": [
    "# xTrain = pd.DataFrame(xTrain)\n",
    "# yTrain = pd.DataFrame(yTrain)\n",
    "for i in range(len(xTrain)):\n",
    "    xTrain[i] = xTrain[i].tolist()"
   ]
  },
  {
   "cell_type": "code",
   "execution_count": 27,
   "metadata": {},
   "outputs": [],
   "source": [
    "xTrain = np.array(xTrain)"
   ]
  },
  {
   "cell_type": "code",
   "execution_count": 28,
   "metadata": {},
   "outputs": [
    {
     "data": {
      "text/plain": [
       "array([[-2.66738739e+02,  1.03663437e+02,  4.57347250e+00, ...,\n",
       "         6.65094912e-01,  6.49608910e-01,  6.42543912e-01],\n",
       "       [-4.48730499e+02,  1.28073349e+02,  5.41881466e+00, ...,\n",
       "         5.64448655e-01,  4.81527716e-01,  4.70946014e-01],\n",
       "       [-1.32712402e+02,  1.24452629e+02, -5.78597565e+01, ...,\n",
       "         8.64456952e-01,  7.29332209e-01,  5.85895121e-01],\n",
       "       ...,\n",
       "       [-4.08519897e+02,  1.33835327e+02,  1.11045971e+01, ...,\n",
       "         6.23941481e-01,  5.90551853e-01,  5.97101927e-01],\n",
       "       [-3.74894928e+02,  1.10480606e+02,  1.85306492e+01, ...,\n",
       "         5.01949251e-01,  5.00471771e-01,  4.95753914e-01],\n",
       "       [-4.74773224e+02,  9.46302719e+01,  9.27752554e-01, ...,\n",
       "         7.55193293e-01,  6.06650174e-01,  5.73853016e-01]])"
      ]
     },
     "execution_count": 28,
     "metadata": {},
     "output_type": "execute_result"
    }
   ],
   "source": [
    "xTrain"
   ]
  },
  {
   "cell_type": "code",
   "execution_count": 29,
   "metadata": {},
   "outputs": [],
   "source": [
    "xtrainNew = []\n",
    "for i in xTrain:\n",
    "    xtrainNew.append([i[4],i[46]])\n",
    "xtrainNew = np.array(xtrainNew)"
   ]
  },
  {
   "cell_type": "code",
   "execution_count": 32,
   "metadata": {},
   "outputs": [],
   "source": [
    "# # import numpy as np\n",
    "# # import matplotlib.pyplot as plt\n",
    "# # from sklearn import svm, datasets\n",
    "\n",
    "# # import some data to play with\n",
    "# # iris = datasets.load_iris()\n",
    "X = xtrainNew  # we only take the first two features. We could\n",
    "                      # avoid this ugly slicing by using a two-dim dataset\n",
    "y = yTrain\n",
    "\n",
    "h = .02  # step size in the mesh\n",
    "\n",
    "# we create an instance of SVM and fit out data. We do not scale our\n",
    "# data since we want to plot the support vectors\n",
    "C = 1.0  # SVM regularization parameter\n",
    "svc = SVC(kernel='linear', C=C).fit(X, y)\n",
    "# rbf_svc = svm.SVC(kernel='rbf', gamma=0.7, C=C).fit(X, y)\n",
    "# poly_svc = svm.SVC(kernel='poly', degree=3, C=C).fit(X, y)\n",
    "# lin_svc = svm.LinearSVC(C=C).fit(X, y)\n",
    "\n",
    "# create a mesh to plot in\n",
    "x_min, x_max = X[:, 0].min() - 1, X[:, 0].max() + 1\n",
    "y_min, y_max = X[:, 1].min() - 1, X[:, 1].max() + 1\n",
    "xx, yy = np.meshgrid(np.arange(x_min, x_max, h),\n",
    "                     np.arange(y_min, y_max, h))\n",
    "\n",
    "# title for the plots\n",
    "# titles = ['SVC with linear kernel',\n",
    "#           'LinearSVC (linear kernel)',\n",
    "#           'SVC with RBF kernel',\n",
    "#           'SVC with polynomial (degree 3) kernel']\n",
    "\n",
    "\n",
    "# for i, clf in enumerate((svc, lin_svc, rbf_svc, poly_svc)):\n",
    "    # Plot the decision boundary. For that, we will assign a color to each\n",
    "    # point in the mesh [x_min, x_max]x[y_min, y_max].\n",
    "# plt.subplot(2, 2, i + 1)\n",
    "# plt.subplots_adjust(wspace=0.4, hspace=0.4)\n",
    "\n",
    "Z = svc.predict(np.c_[xx.ravel(), yy.ravel()])\n",
    "\n",
    "# Put the result into a color plot\n",
    "Z = Z.reshape(xx.shape)"
   ]
  },
  {
   "cell_type": "code",
   "execution_count": 46,
   "metadata": {},
   "outputs": [
    {
     "data": {
      "image/png": "[encoded data removed]",
      "text/plain": [
       "<Figure size 640x480 with 1 Axes>"
      ]
     },
     "metadata": {},
     "output_type": "display_data"
    }
   ],
   "source": [
    "plt.contourf(xx, yy, Z, cmap=plt.cm.coolwarm, alpha=0.8)\n",
    "\n",
    "# Plot also the training points\n",
    "plt.scatter(X[:, 0], X[:, 1], c=y,cmap=plt.cm.coolwarm)\n",
    "\n",
    "plt.plot([40], [40], color=\"green\", alpha=1)  # plotting single point\n",
    "\n",
    "plt.xlabel('4')\n",
    "plt.ylabel('45')\n",
    "plt.xlim(xx.min(), xx.max())\n",
    "plt.ylim(yy.min(), yy.max())\n",
    "plt.xticks(())\n",
    "plt.yticks(())\n",
    "plt.title(\"linear\")\n",
    "\n",
    "plt.show()"
   ]
  },
  {
   "cell_type": "code",
   "execution_count": null,
   "metadata": {},
   "outputs": [],
   "source": []
  }
 ],
 "metadata": {
  "kernelspec": {
   "display_name": "Python 3",
   "language": "python",
   "name": "python3"
  },
  "language_info": {
   "codemirror_mode": {
    "name": "ipython",
    "version": 3
   },
   "file_extension": ".py",
   "mimetype": "text/x-python",
   "name": "python",
   "nbconvert_exporter": "python",
   "pygments_lexer": "ipython3",
   "version": "3.9.0"
  },
  "orig_nbformat": 4,
  "vscode": {
   "interpreter": {
    "hash": "b35c0e0c22f4e69d6176338ddf1640bc0c3891cabe89a14316f917f290cba1ea"
   }
  }
 },
 "nbformat": 4,
 "nbformat_minor": 2
}
