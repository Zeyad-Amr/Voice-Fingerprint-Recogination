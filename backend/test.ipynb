{
 "cells": [
  {
   "cell_type": "code",
   "execution_count": 11,
   "metadata": {},
   "outputs": [],
   "source": [
    "from pydub import AudioSegment\n",
    "import librosa\n",
    "import numpy as np\n"
   ]
  },
  {
   "cell_type": "code",
   "execution_count": 27,
   "metadata": {},
   "outputs": [
    {
     "data": {
      "text/plain": [
       "<_io.BufferedRandom name='./files/voice521470254.wav'>"
      ]
     },
     "execution_count": 27,
     "metadata": {},
     "output_type": "execute_result"
    }
   ],
   "source": [
    "file=\"./files/voice521470254.mp3\"\n",
    "wavfilePath=\"./files/voice521470254.wav\"\n",
    "sound = AudioSegment.from_mp3(file)\n",
    "sound.export(wavfilePath, format=\"wav\")"
   ]
  },
  {
   "cell_type": "code",
   "execution_count": 28,
   "metadata": {},
   "outputs": [
    {
     "name": "stdout",
     "output_type": "stream",
     "text": [
      "[-4.5996344e+02  1.6661880e+02 -1.4608778e+01  1.6657752e+00\n",
      " -1.3204663e+01  1.1561136e+01 -8.2820425e+00 -2.8726456e+00\n",
      " -1.4873925e+01  6.2841144e+00 -7.7125680e-01  1.3839838e+01\n",
      " -7.6913671e+00 -7.0673561e+00 -4.3531017e+00  5.1532354e+00\n",
      " -9.8454189e+00  1.8290442e+00 -8.9984913e+00 -4.9732556e+00\n",
      " -7.6596165e+00  3.4214993e+00 -8.5389509e+00  4.2175078e+00\n",
      "  1.1293666e+00 -3.3992153e-02 -8.5229233e-02  5.4337770e-01\n",
      " -2.0049007e+00  1.1445558e+00  4.4405761e-01 -5.4156673e-01\n",
      " -1.3805532e+00 -2.9350929e+00  1.4029409e+00 -4.7713181e-01\n",
      " -2.2109904e+00 -6.1468620e-02 -9.2443168e-01 -8.4582841e-01]\n"
     ]
    }
   ],
   "source": [
    "audio, sampleRate = librosa.load(wavfilePath, res_type='kaiser_fast') \n",
    "mfccsFeatures = librosa.feature.mfcc(y=audio, sr=sampleRate, n_mfcc=40)\n",
    "mfccsScaledFeatures = np.mean(mfccsFeatures.T,axis=0)\n",
    "print(mfccsScaledFeatures)"
   ]
  }
 ],
 "metadata": {
  "kernelspec": {
   "display_name": "Python 3.10.8 64-bit",
   "language": "python",
   "name": "python3"
  },
  "language_info": {
   "codemirror_mode": {
    "name": "ipython",
    "version": 3
   },
   "file_extension": ".py",
   "mimetype": "text/x-python",
   "name": "python",
   "nbconvert_exporter": "python",
   "pygments_lexer": "ipython3",
   "version": "3.10.8"
  },
  "orig_nbformat": 4,
  "vscode": {
   "interpreter": {
    "hash": "e1d731335b9ffe43166e5c1919a8f9462a9f595684893770f720f5ffeb158734"
   }
  }
 },
 "nbformat": 4,
 "nbformat_minor": 2
}
