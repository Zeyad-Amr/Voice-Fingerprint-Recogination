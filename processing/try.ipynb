{
 "cells": [
  {
   "cell_type": "markdown",
   "metadata": {},
   "source": [
    "# imports"
   ]
  },
  {
   "cell_type": "code",
   "execution_count": 46,
   "metadata": {},
   "outputs": [],
   "source": [
    "import pandas as pd\n",
    "import numpy as np\n",
    "import warnings\n",
    "import matplotlib.pyplot as plt\n",
    "import seaborn as sns\n",
    "import soundfile as sf\n",
    "from scipy.fft import rfft,rfftfreq\n",
    "import librosa\n",
    "import librosa.display\n",
    "import IPython.display as ipd\n",
    "import os\n",
    "from sklearn.preprocessing import LabelEncoder\n",
    "\n",
    "sns.set()\n",
    "warnings.filterwarnings('ignore')"
   ]
  },
  {
   "cell_type": "code",
   "execution_count": 47,
   "metadata": {},
   "outputs": [],
   "source": [
    "def features_extractor(file):\n",
    "    audio, sampleRate = librosa.load(file, res_type='kaiser_fast') \n",
    "    mfccsFeatures = librosa.feature.mfcc(y=audio, sr=sampleRate, n_mfcc=40)\n",
    "    mfccsScaledFeatures = np.mean(mfccsFeatures.T,axis=0)\n",
    "    \n",
    "    return mfccsScaledFeatures"
   ]
  },
  {
   "cell_type": "code",
   "execution_count": 48,
   "metadata": {},
   "outputs": [
    {
     "name": "stdout",
     "output_type": "stream",
     "text": [
      "C:/Users/DELL/General/DSP Tasks/DSP_Task3/processing/abdelrahman/abdelrahman1.wav\n",
      "C:/Users/DELL/General/DSP Tasks/DSP_Task3/processing/abdelrahman/abdelrahman2.wav\n",
      "C:/Users/DELL/General/DSP Tasks/DSP_Task3/processing/abdelrahman/abdelrahman3.wav\n",
      "C:/Users/DELL/General/DSP Tasks/DSP_Task3/processing/abdelrahman/abdelrahman4.wav\n",
      "C:/Users/DELL/General/DSP Tasks/DSP_Task3/processing/abdelrahman/abdelrahman5.wav\n",
      "C:/Users/DELL/General/DSP Tasks/DSP_Task3/processing/abdelrahman/abdelrahman6.wav\n",
      "C:/Users/DELL/General/DSP Tasks/DSP_Task3/processing/abdelrahman/abdelrahman7.wav\n",
      "C:/Users/DELL/General/DSP Tasks/DSP_Task3/processing/abdelrahman/abdelrahman8.wav\n",
      "C:/Users/DELL/General/DSP Tasks/DSP_Task3/processing/abdelrahman/abdelrahman9.wav\n"
     ]
    }
   ],
   "source": [
    "dir = \"C:/Users/DELL/General/DSP Tasks/DSP_Task3/processing/abdelrahman\"\n",
    "for files in os.listdir(dir):\n",
    "    path = dir+'/'+files\n",
    "    print(path)"
   ]
  },
  {
   "cell_type": "code",
   "execution_count": 49,
   "metadata": {},
   "outputs": [],
   "source": [
    "extractedFeatures=[]\n",
    "dir = \"C:/Users/DELL/General/DSP Tasks/DSP_Task3/processing/abdelrahman\"\n",
    "for file in os.listdir(dir):\n",
    "    path = dir+'/'+file\n",
    "    finalClassLabels=\"abdelrahman\"\n",
    "    data=features_extractor(path)\n",
    "    extractedFeatures.append([data,finalClassLabels])"
   ]
  },
  {
   "cell_type": "code",
   "execution_count": 50,
   "metadata": {},
   "outputs": [],
   "source": [
    "dir = \"C:/Users/DELL/General/DSP Tasks/DSP_Task3/processing/neveen\"\n",
    "for file in os.listdir(dir):\n",
    "    path = dir+'/'+file\n",
    "    finalClassLabels=\"neveen\"\n",
    "    data=features_extractor(path)\n",
    "    extractedFeatures.append([data,finalClassLabels])"
   ]
  },
  {
   "cell_type": "code",
   "execution_count": 51,
   "metadata": {},
   "outputs": [
    {
     "data": {
      "text/html": [
       "<div>\n",
       "<style scoped>\n",
       "    .dataframe tbody tr th:only-of-type {\n",
       "        vertical-align: middle;\n",
       "    }\n",
       "\n",
       "    .dataframe tbody tr th {\n",
       "        vertical-align: top;\n",
       "    }\n",
       "\n",
       "    .dataframe thead th {\n",
       "        text-align: right;\n",
       "    }\n",
       "</style>\n",
       "<table border=\"1\" class=\"dataframe\">\n",
       "  <thead>\n",
       "    <tr style=\"text-align: right;\">\n",
       "      <th></th>\n",
       "      <th>feature</th>\n",
       "      <th>class</th>\n",
       "    </tr>\n",
       "  </thead>\n",
       "  <tbody>\n",
       "    <tr>\n",
       "      <th>0</th>\n",
       "      <td>[-233.777, 128.69838, 5.2159414, 29.440123, 3....</td>\n",
       "      <td>abdelrahman</td>\n",
       "    </tr>\n",
       "    <tr>\n",
       "      <th>1</th>\n",
       "      <td>[-265.58362, 139.14566, -0.51908237, 33.799416...</td>\n",
       "      <td>abdelrahman</td>\n",
       "    </tr>\n",
       "    <tr>\n",
       "      <th>2</th>\n",
       "      <td>[-239.47173, 152.16869, -5.03487, 28.950129, 9...</td>\n",
       "      <td>abdelrahman</td>\n",
       "    </tr>\n",
       "    <tr>\n",
       "      <th>3</th>\n",
       "      <td>[-267.31735, 141.45056, 6.0873218, 30.584688, ...</td>\n",
       "      <td>abdelrahman</td>\n",
       "    </tr>\n",
       "    <tr>\n",
       "      <th>4</th>\n",
       "      <td>[-218.48422, 134.2694, -9.916035, 36.981575, 2...</td>\n",
       "      <td>abdelrahman</td>\n",
       "    </tr>\n",
       "    <tr>\n",
       "      <th>5</th>\n",
       "      <td>[-227.95163, 140.31573, -0.38682637, 28.89518,...</td>\n",
       "      <td>abdelrahman</td>\n",
       "    </tr>\n",
       "    <tr>\n",
       "      <th>6</th>\n",
       "      <td>[-222.16919, 150.08295, 1.2905369, 27.432863, ...</td>\n",
       "      <td>abdelrahman</td>\n",
       "    </tr>\n",
       "    <tr>\n",
       "      <th>7</th>\n",
       "      <td>[-249.30916, 144.51648, -1.7173014, 19.717804,...</td>\n",
       "      <td>abdelrahman</td>\n",
       "    </tr>\n",
       "    <tr>\n",
       "      <th>8</th>\n",
       "      <td>[-263.4116, 149.31612, 1.0451533, 18.774231, 5...</td>\n",
       "      <td>abdelrahman</td>\n",
       "    </tr>\n",
       "    <tr>\n",
       "      <th>9</th>\n",
       "      <td>[-230.49217, 136.25023, -11.093793, 18.835234,...</td>\n",
       "      <td>neveen</td>\n",
       "    </tr>\n",
       "    <tr>\n",
       "      <th>10</th>\n",
       "      <td>[-242.60735, 136.67154, -12.578892, 14.595002,...</td>\n",
       "      <td>neveen</td>\n",
       "    </tr>\n",
       "    <tr>\n",
       "      <th>11</th>\n",
       "      <td>[-258.4814, 146.29405, -2.548537, 10.206918, -...</td>\n",
       "      <td>neveen</td>\n",
       "    </tr>\n",
       "    <tr>\n",
       "      <th>12</th>\n",
       "      <td>[-205.89, 139.75133, -21.483498, 11.364909, -1...</td>\n",
       "      <td>neveen</td>\n",
       "    </tr>\n",
       "    <tr>\n",
       "      <th>13</th>\n",
       "      <td>[-199.90474, 134.44846, -22.897566, 12.559471,...</td>\n",
       "      <td>neveen</td>\n",
       "    </tr>\n",
       "    <tr>\n",
       "      <th>14</th>\n",
       "      <td>[-241.14046, 140.94754, -8.213627, 4.8609567, ...</td>\n",
       "      <td>neveen</td>\n",
       "    </tr>\n",
       "    <tr>\n",
       "      <th>15</th>\n",
       "      <td>[-243.55554, 126.78639, -8.521932, -3.337085, ...</td>\n",
       "      <td>neveen</td>\n",
       "    </tr>\n",
       "    <tr>\n",
       "      <th>16</th>\n",
       "      <td>[-228.88066, 143.84306, -14.849075, 9.159073, ...</td>\n",
       "      <td>neveen</td>\n",
       "    </tr>\n",
       "    <tr>\n",
       "      <th>17</th>\n",
       "      <td>[-218.93561, 138.50278, -13.696941, 18.378597,...</td>\n",
       "      <td>neveen</td>\n",
       "    </tr>\n",
       "  </tbody>\n",
       "</table>\n",
       "</div>"
      ],
      "text/plain": [
       "                                              feature        class\n",
       "0   [-233.777, 128.69838, 5.2159414, 29.440123, 3....  abdelrahman\n",
       "1   [-265.58362, 139.14566, -0.51908237, 33.799416...  abdelrahman\n",
       "2   [-239.47173, 152.16869, -5.03487, 28.950129, 9...  abdelrahman\n",
       "3   [-267.31735, 141.45056, 6.0873218, 30.584688, ...  abdelrahman\n",
       "4   [-218.48422, 134.2694, -9.916035, 36.981575, 2...  abdelrahman\n",
       "5   [-227.95163, 140.31573, -0.38682637, 28.89518,...  abdelrahman\n",
       "6   [-222.16919, 150.08295, 1.2905369, 27.432863, ...  abdelrahman\n",
       "7   [-249.30916, 144.51648, -1.7173014, 19.717804,...  abdelrahman\n",
       "8   [-263.4116, 149.31612, 1.0451533, 18.774231, 5...  abdelrahman\n",
       "9   [-230.49217, 136.25023, -11.093793, 18.835234,...       neveen\n",
       "10  [-242.60735, 136.67154, -12.578892, 14.595002,...       neveen\n",
       "11  [-258.4814, 146.29405, -2.548537, 10.206918, -...       neveen\n",
       "12  [-205.89, 139.75133, -21.483498, 11.364909, -1...       neveen\n",
       "13  [-199.90474, 134.44846, -22.897566, 12.559471,...       neveen\n",
       "14  [-241.14046, 140.94754, -8.213627, 4.8609567, ...       neveen\n",
       "15  [-243.55554, 126.78639, -8.521932, -3.337085, ...       neveen\n",
       "16  [-228.88066, 143.84306, -14.849075, 9.159073, ...       neveen\n",
       "17  [-218.93561, 138.50278, -13.696941, 18.378597,...       neveen"
      ]
     },
     "execution_count": 51,
     "metadata": {},
     "output_type": "execute_result"
    }
   ],
   "source": [
    "data=pd.DataFrame(extractedFeatures,columns=['feature','class'])\n",
    "data"
   ]
  },
  {
   "cell_type": "code",
   "execution_count": 52,
   "metadata": {},
   "outputs": [],
   "source": [
    "features=np.array(data['feature'].tolist())\n",
    "target=np.array(data['class'].tolist())"
   ]
  },
  {
   "cell_type": "code",
   "execution_count": 53,
   "metadata": {},
   "outputs": [],
   "source": [
    "encoder = LabelEncoder()\n",
    "target = encoder.fit_transform(target)"
   ]
  },
  {
   "cell_type": "code",
   "execution_count": 54,
   "metadata": {},
   "outputs": [],
   "source": [
    "from sklearn.svm import SVC"
   ]
  },
  {
   "cell_type": "code",
   "execution_count": 55,
   "metadata": {},
   "outputs": [
    {
     "data": {
      "text/html": [
       "<style>#sk-container-id-2 {color: black;background-color: white;}#sk-container-id-2 pre{padding: 0;}#sk-container-id-2 div.sk-toggleable {background-color: white;}#sk-container-id-2 label.sk-toggleable__label {cursor: pointer;display: block;width: 100%;margin-bottom: 0;padding: 0.3em;box-sizing: border-box;text-align: center;}#sk-container-id-2 label.sk-toggleable__label-arrow:before {content: \"▸\";float: left;margin-right: 0.25em;color: #696969;}#sk-container-id-2 label.sk-toggleable__label-arrow:hover:before {color: black;}#sk-container-id-2 div.sk-estimator:hover label.sk-toggleable__label-arrow:before {color: black;}#sk-container-id-2 div.sk-toggleable__content {max-height: 0;max-width: 0;overflow: hidden;text-align: left;background-color: #f0f8ff;}#sk-container-id-2 div.sk-toggleable__content pre {margin: 0.2em;color: black;border-radius: 0.25em;background-color: #f0f8ff;}#sk-container-id-2 input.sk-toggleable__control:checked~div.sk-toggleable__content {max-height: 200px;max-width: 100%;overflow: auto;}#sk-container-id-2 input.sk-toggleable__control:checked~label.sk-toggleable__label-arrow:before {content: \"▾\";}#sk-container-id-2 div.sk-estimator input.sk-toggleable__control:checked~label.sk-toggleable__label {background-color: #d4ebff;}#sk-container-id-2 div.sk-label input.sk-toggleable__control:checked~label.sk-toggleable__label {background-color: #d4ebff;}#sk-container-id-2 input.sk-hidden--visually {border: 0;clip: rect(1px 1px 1px 1px);clip: rect(1px, 1px, 1px, 1px);height: 1px;margin: -1px;overflow: hidden;padding: 0;position: absolute;width: 1px;}#sk-container-id-2 div.sk-estimator {font-family: monospace;background-color: #f0f8ff;border: 1px dotted black;border-radius: 0.25em;box-sizing: border-box;margin-bottom: 0.5em;}#sk-container-id-2 div.sk-estimator:hover {background-color: #d4ebff;}#sk-container-id-2 div.sk-parallel-item::after {content: \"\";width: 100%;border-bottom: 1px solid gray;flex-grow: 1;}#sk-container-id-2 div.sk-label:hover label.sk-toggleable__label {background-color: #d4ebff;}#sk-container-id-2 div.sk-serial::before {content: \"\";position: absolute;border-left: 1px solid gray;box-sizing: border-box;top: 0;bottom: 0;left: 50%;z-index: 0;}#sk-container-id-2 div.sk-serial {display: flex;flex-direction: column;align-items: center;background-color: white;padding-right: 0.2em;padding-left: 0.2em;position: relative;}#sk-container-id-2 div.sk-item {position: relative;z-index: 1;}#sk-container-id-2 div.sk-parallel {display: flex;align-items: stretch;justify-content: center;background-color: white;position: relative;}#sk-container-id-2 div.sk-item::before, #sk-container-id-2 div.sk-parallel-item::before {content: \"\";position: absolute;border-left: 1px solid gray;box-sizing: border-box;top: 0;bottom: 0;left: 50%;z-index: -1;}#sk-container-id-2 div.sk-parallel-item {display: flex;flex-direction: column;z-index: 1;position: relative;background-color: white;}#sk-container-id-2 div.sk-parallel-item:first-child::after {align-self: flex-end;width: 50%;}#sk-container-id-2 div.sk-parallel-item:last-child::after {align-self: flex-start;width: 50%;}#sk-container-id-2 div.sk-parallel-item:only-child::after {width: 0;}#sk-container-id-2 div.sk-dashed-wrapped {border: 1px dashed gray;margin: 0 0.4em 0.5em 0.4em;box-sizing: border-box;padding-bottom: 0.4em;background-color: white;}#sk-container-id-2 div.sk-label label {font-family: monospace;font-weight: bold;display: inline-block;line-height: 1.2em;}#sk-container-id-2 div.sk-label-container {text-align: center;}#sk-container-id-2 div.sk-container {/* jupyter's `normalize.less` sets `[hidden] { display: none; }` but bootstrap.min.css set `[hidden] { display: none !important; }` so we also need the `!important` here to be able to override the default hidden behavior on the sphinx rendered scikit-learn.org. See: https://github.com/scikit-learn/scikit-learn/issues/21755 */display: inline-block !important;position: relative;}#sk-container-id-2 div.sk-text-repr-fallback {display: none;}</style><div id=\"sk-container-id-2\" class=\"sk-top-container\"><div class=\"sk-text-repr-fallback\"><pre>SVC(decision_function_shape=&#x27;ovo&#x27;, kernel=&#x27;poly&#x27;)</pre><b>In a Jupyter environment, please rerun this cell to show the HTML representation or trust the notebook. <br />On GitHub, the HTML representation is unable to render, please try loading this page with nbviewer.org.</b></div><div class=\"sk-container\" hidden><div class=\"sk-item\"><div class=\"sk-estimator sk-toggleable\"><input class=\"sk-toggleable__control sk-hidden--visually\" id=\"sk-estimator-id-2\" type=\"checkbox\" checked><label for=\"sk-estimator-id-2\" class=\"sk-toggleable__label sk-toggleable__label-arrow\">SVC</label><div class=\"sk-toggleable__content\"><pre>SVC(decision_function_shape=&#x27;ovo&#x27;, kernel=&#x27;poly&#x27;)</pre></div></div></div></div></div>"
      ],
      "text/plain": [
       "SVC(decision_function_shape='ovo', kernel='poly')"
      ]
     },
     "execution_count": 55,
     "metadata": {},
     "output_type": "execute_result"
    }
   ],
   "source": [
    "linearModel = SVC(kernel='linear',decision_function_shape=\"ovo\")\n",
    "linearModel.fit(features,target)\n",
    "\n",
    "rbfModel = SVC(kernel='rbf',decision_function_shape=\"ovo\")\n",
    "rbfModel.fit(features,target)\n",
    "\n",
    "polyModel = SVC(kernel=\"poly\", degree=3,decision_function_shape=\"ovo\")\n",
    "polyModel.fit(features,target)"
   ]
  },
  {
   "cell_type": "code",
   "execution_count": 56,
   "metadata": {},
   "outputs": [
    {
     "data": {
      "text/plain": [
       "array([[-2.76129761e+02,  1.37085403e+02,  5.98777676e+00,\n",
       "         2.54399147e+01,  1.23229055e+01,  7.14246559e+00,\n",
       "        -9.72368050e+00,  1.25682700e+00, -2.39331837e+01,\n",
       "        -7.22712576e-01, -3.82979012e+00,  1.17750776e+00,\n",
       "        -1.12158680e+00, -1.17785245e-01, -3.12632966e+00,\n",
       "         7.24906063e+00, -6.76130819e+00, -1.99098206e+00,\n",
       "         2.32893562e+00,  1.08026612e+00, -7.86422968e+00,\n",
       "        -1.16619575e+00,  2.12439990e+00, -1.31139800e-01,\n",
       "         1.53922391e+00, -2.29142547e+00, -1.78963923e+00,\n",
       "        -4.28431988e+00, -1.80619764e+00, -7.43308425e-01,\n",
       "        -2.13697195e+00, -8.40504766e-01, -3.80697966e+00,\n",
       "         1.14442635e+00,  5.08321583e-01, -3.14495635e+00,\n",
       "        -2.00456452e+00, -4.55143356e+00, -3.54507565e+00,\n",
       "        -2.22560501e+00]], dtype=float32)"
      ]
     },
     "execution_count": 56,
     "metadata": {},
     "output_type": "execute_result"
    }
   ],
   "source": [
    "testFeatures = features_extractor(\"test.wav\")\n",
    "testFeatures = testFeatures.reshape(1,-1)\n",
    "testFeatures"
   ]
  },
  {
   "cell_type": "code",
   "execution_count": 57,
   "metadata": {},
   "outputs": [],
   "source": [
    "linearPred = linearModel.predict(testFeatures)\n",
    "rbfPred = rbfModel.predict(testFeatures)\n",
    "polyPred = polyModel.predict(testFeatures)"
   ]
  },
  {
   "cell_type": "code",
   "execution_count": 58,
   "metadata": {},
   "outputs": [],
   "source": [
    "def prediction(pred):\n",
    "    if pred==0:\n",
    "        print(\"abdelrahman\")\n",
    "    else:\n",
    "        print(\"neveen\")"
   ]
  },
  {
   "cell_type": "code",
   "execution_count": 59,
   "metadata": {},
   "outputs": [
    {
     "name": "stdout",
     "output_type": "stream",
     "text": [
      "abdelrahman\n",
      "abdelrahman\n",
      "abdelrahman\n"
     ]
    }
   ],
   "source": [
    "prediction(linearPred)\n",
    "prediction(rbfPred)\n",
    "prediction(polyPred)"
   ]
  },
  {
   "cell_type": "code",
   "execution_count": null,
   "metadata": {},
   "outputs": [],
   "source": []
  }
 ],
 "metadata": {
  "kernelspec": {
   "display_name": "Python 3.9.12 ('base')",
   "language": "python",
   "name": "python3"
  },
  "language_info": {
   "codemirror_mode": {
    "name": "ipython",
    "version": 3
   },
   "file_extension": ".py",
   "mimetype": "text/x-python",
   "name": "python",
   "nbconvert_exporter": "python",
   "pygments_lexer": "ipython3",
   "version": "3.9.12"
  },
  "orig_nbformat": 4,
  "vscode": {
   "interpreter": {
    "hash": "5ae58900cfbb8c43ab3495913814b7cf26024f51651a94ce8bf64d6111688e8d"
   }
  }
 },
 "nbformat": 4,
 "nbformat_minor": 2
}
