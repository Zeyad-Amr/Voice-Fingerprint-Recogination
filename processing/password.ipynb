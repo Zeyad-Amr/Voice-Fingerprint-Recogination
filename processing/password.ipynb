{
 "cells": [
  {
   "cell_type": "code",
   "execution_count": 86,
   "metadata": {},
   "outputs": [],
   "source": [
    "import pandas as pd\n",
    "import numpy as np\n",
    "import warnings\n",
    "import matplotlib.pyplot as plt\n",
    "import soundfile as sf\n",
    "from scipy.fft import rfft, rfftfreq\n",
    "import librosa\n",
    "import librosa.display\n",
    "import IPython.display as ipd\n",
    "import os\n",
    "from sklearn.preprocessing import LabelEncoder\n",
    "from sklearn.svm import SVC\n",
    "from sklearn.model_selection import train_test_split\n",
    "from sklearn.metrics import classification_report\n",
    "import pickle\n",
    "from sklearn.tree import DecisionTreeClassifier\n",
    "from sklearn.preprocessing import StandardScaler\n",
    "from sklearn.mixture import GaussianMixture\n",
    "from sklearn.ensemble import RandomForestClassifier\n",
    "from sklearn.preprocessing import StandardScaler\n",
    "from sklearn.neighbors import KNeighborsClassifier\n",
    "warnings.filterwarnings('ignore')\n"
   ]
  },
  {
   "cell_type": "code",
   "execution_count": 87,
   "metadata": {},
   "outputs": [],
   "source": [
    "def mfcc_feature_extractor(audio, sampleRate):\n",
    "    mfccsFeatures = librosa.feature.mfcc(y=audio, sr=sampleRate, n_mfcc=40)\n",
    "    mfccsScaledFeatures = np.mean(mfccsFeatures.T, axis=0)\n",
    "\n",
    "    return mfccsScaledFeatures\n"
   ]
  },
  {
   "cell_type": "code",
   "execution_count": 88,
   "metadata": {},
   "outputs": [],
   "source": [
    "# def contrast_feature_extractor(audio, sampleRate):\n",
    "#     stft = np.abs(librosa.stft(audio))\n",
    "#     contrast = librosa.feature.spectral_contrast(S=stft, sr=sampleRate)\n",
    "#     contrastScaled = np.mean(contrast.T, axis=0)\n",
    "\n",
    "#     return contrastScaled\n"
   ]
  },
  {
   "cell_type": "code",
   "execution_count": 89,
   "metadata": {},
   "outputs": [],
   "source": [
    "# def tonnetz_feature_extractor(audio, sampleRate):\n",
    "#     tonnetz = librosa.feature.tonnetz(\n",
    "#         y=librosa.effects.harmonic(audio), sr=sampleRate)\n",
    "#     tonnetzScaled = np.mean(tonnetz.T, axis=0)\n",
    "\n",
    "#     return tonnetzScaled\n"
   ]
  },
  {
   "cell_type": "code",
   "execution_count": 90,
   "metadata": {},
   "outputs": [],
   "source": [
    "# def centroid_feature_extractor(audio, sampleRate):\n",
    "#     centroid = librosa.feature.spectral_centroid(y=audio, sr=sampleRate)\n",
    "#     centroidScaled = np.mean(centroid.T, axis=0)\n",
    "\n",
    "#     return centroidScaled\n"
   ]
  },
  {
   "cell_type": "code",
   "execution_count": 91,
   "metadata": {},
   "outputs": [],
   "source": [
    "def features_extractor(file):\n",
    "    features = []\n",
    "    # scaler = StandardScaler()\n",
    "    audio, sampleRate = librosa.load(file, res_type='kaiser_fast')\n",
    "    mfcc = mfcc_feature_extractor(audio, sampleRate)\n",
    "    # contrast = contrast_feature_extractor(audio, sampleRate)\n",
    "    # tonnetz = tonnetz_feature_extractor(audio, sampleRate)\n",
    "    # centroid = centroid_feature_extractor(audio, sampleRate)\n",
    "    features.append(mfcc)\n",
    "                    # , contrast, tonnetz, centroid]\n",
    "\n",
    "        # , features[0][1], features[0][2], features[0][3])\n",
    "    return features\n"
   ]
  },
  {
   "cell_type": "code",
   "execution_count": 92,
   "metadata": {},
   "outputs": [],
   "source": [
    "def add_features(extractedFeatures,dirPath,label):\n",
    "    for file in os.listdir(dirPath):\n",
    "        filePath = dirPath+'/'+file\n",
    "        finalClassLabels=label\n",
    "        audio, sampleRate = librosa.load(filePath, res_type='kaiser_fast') \n",
    "        mfcc=mfcc_feature_extractor(audio,sampleRate)\n",
    "        # contrast = contrast_feature_extractor(audio,sampleRate)\n",
    "        # tonnetz = tonnetz_feature_extractor(audio,sampleRate)\n",
    "        # centroid = centroid_feature_extractor(audio,sampleRate)\n",
    "        extractedFeatures.append([mfcc,finalClassLabels])"
   ]
  },
  {
   "cell_type": "code",
   "execution_count": 93,
   "metadata": {},
   "outputs": [],
   "source": [
    "dict = {\"open the door\":[\"C:/Users/DELL/General/DSP Tasks/DSP_Task3/processing/anwar\",\"C:/Users/DELL/General/DSP Tasks/DSP_Task3/processing/aya\",\"C:/Users/DELL/General/DSP Tasks/DSP_Task3/processing/ehab\",\"C:/Users/DELL/General/DSP Tasks/DSP_Task3/processing/zeyad\"],\"others\":[\"C:/Users/DELL/General/DSP Tasks/DSP_Task3/processing/words/Anwar\",\"C:/Users/DELL/General/DSP Tasks/DSP_Task3/processing/words/Aya\",\"C:/Users/DELL/General/DSP Tasks/DSP_Task3/processing/words/Ehab\",\"C:/Users/DELL/General/DSP Tasks/DSP_Task3/processing/words/Zeyad\" ]}"
   ]
  },
  {
   "cell_type": "code",
   "execution_count": 94,
   "metadata": {},
   "outputs": [],
   "source": [
    "extractedFeatures = []\n",
    "for i in dict.keys():\n",
    "    for x in dict[i]:\n",
    "        add_features(extractedFeatures,x,i)"
   ]
  },
  {
   "cell_type": "code",
   "execution_count": 95,
   "metadata": {},
   "outputs": [
    {
     "name": "stdout",
     "output_type": "stream",
     "text": [
      "(521, 2)\n"
     ]
    },
    {
     "data": {
      "text/html": [
       "<div>\n",
       "<style scoped>\n",
       "    .dataframe tbody tr th:only-of-type {\n",
       "        vertical-align: middle;\n",
       "    }\n",
       "\n",
       "    .dataframe tbody tr th {\n",
       "        vertical-align: top;\n",
       "    }\n",
       "\n",
       "    .dataframe thead th {\n",
       "        text-align: right;\n",
       "    }\n",
       "</style>\n",
       "<table border=\"1\" class=\"dataframe\">\n",
       "  <thead>\n",
       "    <tr style=\"text-align: right;\">\n",
       "      <th></th>\n",
       "      <th>mfcc</th>\n",
       "      <th>class</th>\n",
       "    </tr>\n",
       "  </thead>\n",
       "  <tbody>\n",
       "    <tr>\n",
       "      <th>count</th>\n",
       "      <td>521</td>\n",
       "      <td>521</td>\n",
       "    </tr>\n",
       "    <tr>\n",
       "      <th>unique</th>\n",
       "      <td>521</td>\n",
       "      <td>2</td>\n",
       "    </tr>\n",
       "    <tr>\n",
       "      <th>top</th>\n",
       "      <td>[-358.41626, 144.1046, -4.3864827, 17.072119, ...</td>\n",
       "      <td>others</td>\n",
       "    </tr>\n",
       "    <tr>\n",
       "      <th>freq</th>\n",
       "      <td>1</td>\n",
       "      <td>411</td>\n",
       "    </tr>\n",
       "  </tbody>\n",
       "</table>\n",
       "</div>"
      ],
      "text/plain": [
       "                                                     mfcc   class\n",
       "count                                                 521     521\n",
       "unique                                                521       2\n",
       "top     [-358.41626, 144.1046, -4.3864827, 17.072119, ...  others\n",
       "freq                                                    1     411"
      ]
     },
     "execution_count": 95,
     "metadata": {},
     "output_type": "execute_result"
    }
   ],
   "source": [
    "data = pd.DataFrame(extractedFeatures, columns=['mfcc', 'class'])\n",
    "print(data.shape)\n",
    "data.describe()\n"
   ]
  },
  {
   "cell_type": "code",
   "execution_count": 96,
   "metadata": {},
   "outputs": [
    {
     "data": {
      "text/html": [
       "<div>\n",
       "<style scoped>\n",
       "    .dataframe tbody tr th:only-of-type {\n",
       "        vertical-align: middle;\n",
       "    }\n",
       "\n",
       "    .dataframe tbody tr th {\n",
       "        vertical-align: top;\n",
       "    }\n",
       "\n",
       "    .dataframe thead th {\n",
       "        text-align: right;\n",
       "    }\n",
       "</style>\n",
       "<table border=\"1\" class=\"dataframe\">\n",
       "  <thead>\n",
       "    <tr style=\"text-align: right;\">\n",
       "      <th></th>\n",
       "      <th>mfcc</th>\n",
       "    </tr>\n",
       "  </thead>\n",
       "  <tbody>\n",
       "    <tr>\n",
       "      <th>516</th>\n",
       "      <td>[-403.88452, 100.31129, 12.981465, 7.540295, 4...</td>\n",
       "    </tr>\n",
       "    <tr>\n",
       "      <th>517</th>\n",
       "      <td>[-394.78983, 95.47343, 18.773859, 13.397423, 1...</td>\n",
       "    </tr>\n",
       "    <tr>\n",
       "      <th>518</th>\n",
       "      <td>[-395.23135, 95.21314, 24.915657, 11.414962, 6...</td>\n",
       "    </tr>\n",
       "    <tr>\n",
       "      <th>519</th>\n",
       "      <td>[-407.15182, 80.67283, 25.647009, 16.32321, 7....</td>\n",
       "    </tr>\n",
       "    <tr>\n",
       "      <th>520</th>\n",
       "      <td>[-425.70676, 78.90517, 27.258017, 16.093987, 1...</td>\n",
       "    </tr>\n",
       "  </tbody>\n",
       "</table>\n",
       "</div>"
      ],
      "text/plain": [
       "                                                  mfcc\n",
       "516  [-403.88452, 100.31129, 12.981465, 7.540295, 4...\n",
       "517  [-394.78983, 95.47343, 18.773859, 13.397423, 1...\n",
       "518  [-395.23135, 95.21314, 24.915657, 11.414962, 6...\n",
       "519  [-407.15182, 80.67283, 25.647009, 16.32321, 7....\n",
       "520  [-425.70676, 78.90517, 27.258017, 16.093987, 1..."
      ]
     },
     "execution_count": 96,
     "metadata": {},
     "output_type": "execute_result"
    }
   ],
   "source": [
    "features = data.iloc[:, 0:-1]\n",
    "target = data['class']\n",
    "features.tail()\n"
   ]
  },
  {
   "cell_type": "code",
   "execution_count": 97,
   "metadata": {},
   "outputs": [],
   "source": [
    "# mfcc = np.array(features['mfcc'].tolist())\n",
    "# scaler = StandardScaler()\n",
    "# mfcc = scaler.fit_transform(mfcc)\n",
    "# contrast = np.array(features['contrast'].tolist())\n",
    "# tonnetz = np.array(features['tonnetz'].tolist())\n",
    "# centroid = np.array(features['centroid'].tolist())\n"
   ]
  },
  {
   "cell_type": "code",
   "execution_count": 98,
   "metadata": {},
   "outputs": [
    {
     "data": {
      "text/plain": [
       "array([[-3.5841626e+02,  1.4410460e+02, -4.3864827e+00, ...,\n",
       "         2.9956177e-01, -3.8859478e-01, -4.2697997e+00],\n",
       "       [-3.6532745e+02,  1.5733589e+02,  5.4608107e+00, ...,\n",
       "        -3.4516113e+00,  1.7638049e+00, -3.6855962e+00],\n",
       "       [-3.1788281e+02,  1.4354901e+02,  3.7499225e+00, ...,\n",
       "        -9.5711172e-02,  8.3085356e+00,  1.3584095e+00],\n",
       "       ...,\n",
       "       [-3.9523135e+02,  9.5213142e+01,  2.4915657e+01, ...,\n",
       "         2.2017509e-01, -1.3687576e-01, -4.5168647e-01],\n",
       "       [-4.0715182e+02,  8.0672829e+01,  2.5647009e+01, ...,\n",
       "        -2.0917406e+00,  2.0497353e-01,  2.1927603e-01],\n",
       "       [-4.2570676e+02,  7.8905167e+01,  2.7258017e+01, ...,\n",
       "        -2.5449405e+00, -6.0215098e-01, -6.9419241e-01]], dtype=float32)"
      ]
     },
     "execution_count": 98,
     "metadata": {},
     "output_type": "execute_result"
    }
   ],
   "source": [
    "# features = []\n",
    "# for i in range(len(mfcc)):\n",
    "#     features.append(mfcc[i])\n",
    "# data = pd.DataFrame(features)\n",
    "features = np.array(features['mfcc'].tolist())\n",
    "features\n",
    "# for i in range(len(features)):\n",
    "#     features[i] = np.concatenate((features[i][0],features[i][1],features[i][2],features[i][3]))\n"
   ]
  },
  {
   "cell_type": "code",
   "execution_count": 99,
   "metadata": {},
   "outputs": [],
   "source": [
    "encoder = LabelEncoder()\n",
    "target = encoder.fit_transform(target)\n"
   ]
  },
  {
   "cell_type": "code",
   "execution_count": 100,
   "metadata": {},
   "outputs": [],
   "source": [
    "xTrain, xTest, yTrain, yTest = train_test_split(features, target, test_size=0.25, random_state=105)\n"
   ]
  },
  {
   "cell_type": "code",
   "execution_count": 101,
   "metadata": {},
   "outputs": [
    {
     "data": {
      "text/html": [
       "<style>#sk-container-id-2 {color: black;background-color: white;}#sk-container-id-2 pre{padding: 0;}#sk-container-id-2 div.sk-toggleable {background-color: white;}#sk-container-id-2 label.sk-toggleable__label {cursor: pointer;display: block;width: 100%;margin-bottom: 0;padding: 0.3em;box-sizing: border-box;text-align: center;}#sk-container-id-2 label.sk-toggleable__label-arrow:before {content: \"▸\";float: left;margin-right: 0.25em;color: #696969;}#sk-container-id-2 label.sk-toggleable__label-arrow:hover:before {color: black;}#sk-container-id-2 div.sk-estimator:hover label.sk-toggleable__label-arrow:before {color: black;}#sk-container-id-2 div.sk-toggleable__content {max-height: 0;max-width: 0;overflow: hidden;text-align: left;background-color: #f0f8ff;}#sk-container-id-2 div.sk-toggleable__content pre {margin: 0.2em;color: black;border-radius: 0.25em;background-color: #f0f8ff;}#sk-container-id-2 input.sk-toggleable__control:checked~div.sk-toggleable__content {max-height: 200px;max-width: 100%;overflow: auto;}#sk-container-id-2 input.sk-toggleable__control:checked~label.sk-toggleable__label-arrow:before {content: \"▾\";}#sk-container-id-2 div.sk-estimator input.sk-toggleable__control:checked~label.sk-toggleable__label {background-color: #d4ebff;}#sk-container-id-2 div.sk-label input.sk-toggleable__control:checked~label.sk-toggleable__label {background-color: #d4ebff;}#sk-container-id-2 input.sk-hidden--visually {border: 0;clip: rect(1px 1px 1px 1px);clip: rect(1px, 1px, 1px, 1px);height: 1px;margin: -1px;overflow: hidden;padding: 0;position: absolute;width: 1px;}#sk-container-id-2 div.sk-estimator {font-family: monospace;background-color: #f0f8ff;border: 1px dotted black;border-radius: 0.25em;box-sizing: border-box;margin-bottom: 0.5em;}#sk-container-id-2 div.sk-estimator:hover {background-color: #d4ebff;}#sk-container-id-2 div.sk-parallel-item::after {content: \"\";width: 100%;border-bottom: 1px solid gray;flex-grow: 1;}#sk-container-id-2 div.sk-label:hover label.sk-toggleable__label {background-color: #d4ebff;}#sk-container-id-2 div.sk-serial::before {content: \"\";position: absolute;border-left: 1px solid gray;box-sizing: border-box;top: 0;bottom: 0;left: 50%;z-index: 0;}#sk-container-id-2 div.sk-serial {display: flex;flex-direction: column;align-items: center;background-color: white;padding-right: 0.2em;padding-left: 0.2em;position: relative;}#sk-container-id-2 div.sk-item {position: relative;z-index: 1;}#sk-container-id-2 div.sk-parallel {display: flex;align-items: stretch;justify-content: center;background-color: white;position: relative;}#sk-container-id-2 div.sk-item::before, #sk-container-id-2 div.sk-parallel-item::before {content: \"\";position: absolute;border-left: 1px solid gray;box-sizing: border-box;top: 0;bottom: 0;left: 50%;z-index: -1;}#sk-container-id-2 div.sk-parallel-item {display: flex;flex-direction: column;z-index: 1;position: relative;background-color: white;}#sk-container-id-2 div.sk-parallel-item:first-child::after {align-self: flex-end;width: 50%;}#sk-container-id-2 div.sk-parallel-item:last-child::after {align-self: flex-start;width: 50%;}#sk-container-id-2 div.sk-parallel-item:only-child::after {width: 0;}#sk-container-id-2 div.sk-dashed-wrapped {border: 1px dashed gray;margin: 0 0.4em 0.5em 0.4em;box-sizing: border-box;padding-bottom: 0.4em;background-color: white;}#sk-container-id-2 div.sk-label label {font-family: monospace;font-weight: bold;display: inline-block;line-height: 1.2em;}#sk-container-id-2 div.sk-label-container {text-align: center;}#sk-container-id-2 div.sk-container {/* jupyter's `normalize.less` sets `[hidden] { display: none; }` but bootstrap.min.css set `[hidden] { display: none !important; }` so we also need the `!important` here to be able to override the default hidden behavior on the sphinx rendered scikit-learn.org. See: https://github.com/scikit-learn/scikit-learn/issues/21755 */display: inline-block !important;position: relative;}#sk-container-id-2 div.sk-text-repr-fallback {display: none;}</style><div id=\"sk-container-id-2\" class=\"sk-top-container\"><div class=\"sk-text-repr-fallback\"><pre>DecisionTreeClassifier()</pre><b>In a Jupyter environment, please rerun this cell to show the HTML representation or trust the notebook. <br />On GitHub, the HTML representation is unable to render, please try loading this page with nbviewer.org.</b></div><div class=\"sk-container\" hidden><div class=\"sk-item\"><div class=\"sk-estimator sk-toggleable\"><input class=\"sk-toggleable__control sk-hidden--visually\" id=\"sk-estimator-id-2\" type=\"checkbox\" checked><label for=\"sk-estimator-id-2\" class=\"sk-toggleable__label sk-toggleable__label-arrow\">DecisionTreeClassifier</label><div class=\"sk-toggleable__content\"><pre>DecisionTreeClassifier()</pre></div></div></div></div></div>"
      ],
      "text/plain": [
       "DecisionTreeClassifier()"
      ]
     },
     "execution_count": 101,
     "metadata": {},
     "output_type": "execute_result"
    }
   ],
   "source": [
    "classifier = DecisionTreeClassifier()\n",
    "classifier.fit(xTrain,yTrain)"
   ]
  },
  {
   "cell_type": "code",
   "execution_count": 102,
   "metadata": {},
   "outputs": [],
   "source": [
    "preds = classifier.predict(xTest)\n"
   ]
  },
  {
   "cell_type": "code",
   "execution_count": 103,
   "metadata": {},
   "outputs": [],
   "source": [
    "def prediction(pred):\n",
    "    if pred == 0:\n",
    "        print(\"Correct!\")\n",
    "    elif pred == 1:\n",
    "        print(\"Wrong password\")\n",
    "  \n"
   ]
  },
  {
   "cell_type": "code",
   "execution_count": 104,
   "metadata": {},
   "outputs": [
    {
     "name": "stdout",
     "output_type": "stream",
     "text": [
      "              precision    recall  f1-score   support\n",
      "\n",
      "           0       0.95      0.75      0.84        24\n",
      "           1       0.95      0.99      0.97       107\n",
      "\n",
      "    accuracy                           0.95       131\n",
      "   macro avg       0.95      0.87      0.90       131\n",
      "weighted avg       0.95      0.95      0.94       131\n",
      "\n"
     ]
    }
   ],
   "source": [
    "print(classification_report(yTest,preds))"
   ]
  },
  {
   "cell_type": "code",
   "execution_count": 105,
   "metadata": {},
   "outputs": [
    {
     "name": "stdout",
     "output_type": "stream",
     "text": [
      "Correct!\n",
      "Wrong password\n"
     ]
    }
   ],
   "source": [
    "testFeatures = features_extractor(\n",
    "    \"C:/Users/DELL/General/DSP Tasks/DSP_Task3/processing/ehab/voice1619028.wav\")\n",
    "pred = classifier.predict(testFeatures)\n",
    "prediction(pred)\n",
    "testFeatures = features_extractor(\n",
    "    \"C:/Users/DELL/General/DSP Tasks/DSP_Task3/processing/words/Anwar/voice28110762.wav\")\n",
    "pred = classifier.predict(testFeatures)\n",
    "prediction(pred)\n"
   ]
  },
  {
   "cell_type": "code",
   "execution_count": 106,
   "metadata": {},
   "outputs": [],
   "source": [
    "pickle_out = open(\"password_model.pkl\", \"wb\")\n",
    "pickle.dump(classifier, pickle_out)\n",
    "pickle_out.close()\n"
   ]
  },
  {
   "cell_type": "code",
   "execution_count": null,
   "metadata": {},
   "outputs": [],
   "source": []
  }
 ],
 "metadata": {
  "kernelspec": {
   "display_name": "Python 3.9.12 ('base')",
   "language": "python",
   "name": "python3"
  },
  "language_info": {
   "codemirror_mode": {
    "name": "ipython",
    "version": 3
   },
   "file_extension": ".py",
   "mimetype": "text/x-python",
   "name": "python",
   "nbconvert_exporter": "python",
   "pygments_lexer": "ipython3",
   "version": "3.9.12"
  },
  "orig_nbformat": 4,
  "vscode": {
   "interpreter": {
    "hash": "5ae58900cfbb8c43ab3495913814b7cf26024f51651a94ce8bf64d6111688e8d"
   }
  }
 },
 "nbformat": 4,
 "nbformat_minor": 2
}
